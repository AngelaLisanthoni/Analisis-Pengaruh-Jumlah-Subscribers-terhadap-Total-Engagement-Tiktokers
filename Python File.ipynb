{
 "cells": [
  {
   "cell_type": "markdown",
   "id": "778a1d54-307d-4247-80a2-85d15ef9c836",
   "metadata": {},
   "source": [
    "# KALIAN BISA PAKAI df ya untuk datasetnya. Sudah ter-cleaning"
   ]
  },
  {
   "cell_type": "code",
   "execution_count": 1,
   "id": "2a17f31d-f143-4fe9-ba9e-6f3a2ae42c3f",
   "metadata": {},
   "outputs": [],
   "source": [
    "import pandas as pd\n",
    "import numpy as np\n",
    "import matplotlib.pyplot as plt\n",
    "import seaborn as sns"
   ]
  },
  {
   "cell_type": "code",
   "execution_count": 2,
   "id": "8b062527-6ba0-41c3-939f-749181ccc639",
   "metadata": {},
   "outputs": [
    {
     "data": {
      "text/html": [
       "<div>\n",
       "<style scoped>\n",
       "    .dataframe tbody tr th:only-of-type {\n",
       "        vertical-align: middle;\n",
       "    }\n",
       "\n",
       "    .dataframe tbody tr th {\n",
       "        vertical-align: top;\n",
       "    }\n",
       "\n",
       "    .dataframe thead th {\n",
       "        text-align: right;\n",
       "    }\n",
       "</style>\n",
       "<table border=\"1\" class=\"dataframe\">\n",
       "  <thead>\n",
       "    <tr style=\"text-align: right;\">\n",
       "      <th></th>\n",
       "      <th>S.no</th>\n",
       "      <th>Tiktoker name</th>\n",
       "      <th>Tiktok name</th>\n",
       "      <th>Subscribers</th>\n",
       "      <th>Views avg.</th>\n",
       "      <th>Likes avg.</th>\n",
       "      <th>Comments avg.</th>\n",
       "      <th>Shares avg.</th>\n",
       "    </tr>\n",
       "  </thead>\n",
       "  <tbody>\n",
       "    <tr>\n",
       "      <th>0</th>\n",
       "      <td>1</td>\n",
       "      <td>jypestraykids</td>\n",
       "      <td>Stray Kids</td>\n",
       "      <td>13.8M</td>\n",
       "      <td>6.4M</td>\n",
       "      <td>2.3M</td>\n",
       "      <td>50.2K</td>\n",
       "      <td>34.2K</td>\n",
       "    </tr>\n",
       "    <tr>\n",
       "      <th>1</th>\n",
       "      <td>2</td>\n",
       "      <td>khaby.lame</td>\n",
       "      <td>Khabane lame</td>\n",
       "      <td>149.2M</td>\n",
       "      <td>17.3M</td>\n",
       "      <td>2.3M</td>\n",
       "      <td>15.2K</td>\n",
       "      <td>8.7K</td>\n",
       "    </tr>\n",
       "    <tr>\n",
       "      <th>2</th>\n",
       "      <td>3</td>\n",
       "      <td>scarlettsspam2</td>\n",
       "      <td>scarlett</td>\n",
       "      <td>2.1M</td>\n",
       "      <td>17.9M</td>\n",
       "      <td>845.8K</td>\n",
       "      <td>53.9K</td>\n",
       "      <td>6.3K</td>\n",
       "    </tr>\n",
       "    <tr>\n",
       "      <th>3</th>\n",
       "      <td>4</td>\n",
       "      <td>addisonre</td>\n",
       "      <td>Addison Rae</td>\n",
       "      <td>88.7M</td>\n",
       "      <td>22M</td>\n",
       "      <td>906.6K</td>\n",
       "      <td>7.6K</td>\n",
       "      <td>26.2K</td>\n",
       "    </tr>\n",
       "    <tr>\n",
       "      <th>4</th>\n",
       "      <td>5</td>\n",
       "      <td>belindatok</td>\n",
       "      <td>Belinda</td>\n",
       "      <td>4.8M</td>\n",
       "      <td>14.2M</td>\n",
       "      <td>1.5M</td>\n",
       "      <td>14.5K</td>\n",
       "      <td>15.3K</td>\n",
       "    </tr>\n",
       "    <tr>\n",
       "      <th>...</th>\n",
       "      <td>...</td>\n",
       "      <td>...</td>\n",
       "      <td>...</td>\n",
       "      <td>...</td>\n",
       "      <td>...</td>\n",
       "      <td>...</td>\n",
       "      <td>...</td>\n",
       "      <td>...</td>\n",
       "    </tr>\n",
       "    <tr>\n",
       "      <th>995</th>\n",
       "      <td>996</td>\n",
       "      <td>brendadialoy</td>\n",
       "      <td>Brenda Dialoy</td>\n",
       "      <td>371.9K</td>\n",
       "      <td>1.2M</td>\n",
       "      <td>187.5K</td>\n",
       "      <td>626</td>\n",
       "      <td>2K</td>\n",
       "    </tr>\n",
       "    <tr>\n",
       "      <th>996</th>\n",
       "      <td>997</td>\n",
       "      <td>jujufitcats</td>\n",
       "      <td>Juju Fitcats</td>\n",
       "      <td>4.3M</td>\n",
       "      <td>2.2M</td>\n",
       "      <td>280.8K</td>\n",
       "      <td>380</td>\n",
       "      <td>558</td>\n",
       "    </tr>\n",
       "    <tr>\n",
       "      <th>997</th>\n",
       "      <td>998</td>\n",
       "      <td>xoteam</td>\n",
       "      <td>XO Team</td>\n",
       "      <td>37.8M</td>\n",
       "      <td>2.5M</td>\n",
       "      <td>180.2K</td>\n",
       "      <td>859</td>\n",
       "      <td>450</td>\n",
       "    </tr>\n",
       "    <tr>\n",
       "      <th>998</th>\n",
       "      <td>999</td>\n",
       "      <td>kimsnwuo</td>\n",
       "      <td>️️</td>\n",
       "      <td>100.9K</td>\n",
       "      <td>957.4K</td>\n",
       "      <td>226.8K</td>\n",
       "      <td>908</td>\n",
       "      <td>1.7K</td>\n",
       "    </tr>\n",
       "    <tr>\n",
       "      <th>999</th>\n",
       "      <td>1000</td>\n",
       "      <td>jass_mcg</td>\n",
       "      <td>jass_mcg</td>\n",
       "      <td>52.2K</td>\n",
       "      <td>503.8K</td>\n",
       "      <td>116K</td>\n",
       "      <td>8.1K</td>\n",
       "      <td>1.8K</td>\n",
       "    </tr>\n",
       "  </tbody>\n",
       "</table>\n",
       "<p>1000 rows × 8 columns</p>\n",
       "</div>"
      ],
      "text/plain": [
       "     S.no   Tiktoker name    Tiktok name Subscribers Views avg. Likes avg.  \\\n",
       "0       1   jypestraykids     Stray Kids       13.8M       6.4M       2.3M   \n",
       "1       2      khaby.lame   Khabane lame      149.2M      17.3M       2.3M   \n",
       "2       3  scarlettsspam2       scarlett        2.1M      17.9M     845.8K   \n",
       "3       4       addisonre    Addison Rae       88.7M        22M     906.6K   \n",
       "4       5      belindatok        Belinda        4.8M      14.2M       1.5M   \n",
       "..    ...             ...            ...         ...        ...        ...   \n",
       "995   996    brendadialoy  Brenda Dialoy      371.9K       1.2M     187.5K   \n",
       "996   997     jujufitcats   Juju Fitcats        4.3M       2.2M     280.8K   \n",
       "997   998          xoteam        XO Team       37.8M       2.5M     180.2K   \n",
       "998   999        kimsnwuo             ️️      100.9K     957.4K     226.8K   \n",
       "999  1000        jass_mcg       jass_mcg       52.2K     503.8K       116K   \n",
       "\n",
       "    Comments avg. Shares avg.  \n",
       "0           50.2K       34.2K  \n",
       "1           15.2K        8.7K  \n",
       "2           53.9K        6.3K  \n",
       "3            7.6K       26.2K  \n",
       "4           14.5K       15.3K  \n",
       "..            ...         ...  \n",
       "995           626          2K  \n",
       "996           380         558  \n",
       "997           859         450  \n",
       "998           908        1.7K  \n",
       "999          8.1K        1.8K  \n",
       "\n",
       "[1000 rows x 8 columns]"
      ]
     },
     "execution_count": 2,
     "metadata": {},
     "output_type": "execute_result"
    }
   ],
   "source": [
    "df = pd.read_csv('data_tiktok.csv')\n",
    "df"
   ]
  },
  {
   "cell_type": "code",
   "execution_count": 3,
   "id": "6dd406f0-e87c-4c39-9b8d-c32719111efb",
   "metadata": {},
   "outputs": [
    {
     "data": {
      "text/plain": [
       "S.no             0\n",
       "Tiktoker name    0\n",
       "Tiktok name      1\n",
       "Subscribers      0\n",
       "Views avg.       0\n",
       "Likes avg.       0\n",
       "Comments avg.    0\n",
       "Shares avg.      0\n",
       "dtype: int64"
      ]
     },
     "execution_count": 3,
     "metadata": {},
     "output_type": "execute_result"
    }
   ],
   "source": [
    "df.isna().sum() #cek Berapa banyak data tiap kolom yang null"
   ]
  },
  {
   "cell_type": "code",
   "execution_count": 4,
   "id": "7dd60bb5-50ad-4edb-874c-4287bd17f401",
   "metadata": {},
   "outputs": [],
   "source": [
    "df = df.dropna(subset=[\"Tiktok name\"], axis=0) #menghapus baris yang memiliki nilai null dimana nilai null itu berada pada kolom Tiktok Name"
   ]
  },
  {
   "cell_type": "code",
   "execution_count": 5,
   "id": "b8698814-f1b4-441e-8211-8c47d54d44b0",
   "metadata": {},
   "outputs": [],
   "source": [
    "del df['S.no']"
   ]
  },
  {
   "cell_type": "code",
   "execution_count": 6,
   "id": "f30f7bb6-dd5b-451b-9af4-833f89435e70",
   "metadata": {},
   "outputs": [
    {
     "data": {
      "text/plain": [
       "Tiktoker name    False\n",
       "Tiktok name      False\n",
       "Subscribers      False\n",
       "Views avg.       False\n",
       "Likes avg.       False\n",
       "Comments avg.    False\n",
       "Shares avg.      False\n",
       "dtype: bool"
      ]
     },
     "execution_count": 6,
     "metadata": {},
     "output_type": "execute_result"
    }
   ],
   "source": [
    "df.isna().any() #cek kembali Berapa banyak data tiap kolom yang null"
   ]
  },
  {
   "cell_type": "code",
   "execution_count": 7,
   "id": "7b9f82d7-ad8a-4cf8-b4e8-5bff2f2ac8f9",
   "metadata": {},
   "outputs": [
    {
     "data": {
      "text/plain": [
       "True"
      ]
     },
     "execution_count": 7,
     "metadata": {},
     "output_type": "execute_result"
    }
   ],
   "source": [
    "df.duplicated().any() #cek apakah ada data yang duplikat atau tidak"
   ]
  },
  {
   "cell_type": "code",
   "execution_count": 8,
   "id": "d27ca86c-ca34-4ea0-b268-595bd76dd4fb",
   "metadata": {},
   "outputs": [
    {
     "data": {
      "text/plain": [
       "Tiktoker name    object\n",
       "Tiktok name      object\n",
       "Subscribers      object\n",
       "Views avg.       object\n",
       "Likes avg.       object\n",
       "Comments avg.    object\n",
       "Shares avg.      object\n",
       "dtype: object"
      ]
     },
     "execution_count": 8,
     "metadata": {},
     "output_type": "execute_result"
    }
   ],
   "source": [
    "df.dtypes"
   ]
  },
  {
   "cell_type": "code",
   "execution_count": 9,
   "id": "3597624c-0b4b-4382-b694-c0263b6f1015",
   "metadata": {},
   "outputs": [
    {
     "name": "stderr",
     "output_type": "stream",
     "text": [
      "C:\\Users\\angela\\AppData\\Local\\Temp\\ipykernel_17620\\2182130126.py:1: SettingWithCopyWarning: \n",
      "A value is trying to be set on a copy of a slice from a DataFrame.\n",
      "Try using .loc[row_indexer,col_indexer] = value instead\n",
      "\n",
      "See the caveats in the documentation: https://pandas.pydata.org/pandas-docs/stable/user_guide/indexing.html#returning-a-view-versus-a-copy\n",
      "  df['Subscribers'] = (df['Subscribers'].replace(r'[KM]+$', '', regex=True).astype(float) * \\\n",
      "C:\\Users\\angela\\AppData\\Local\\Temp\\ipykernel_17620\\2182130126.py:6: SettingWithCopyWarning: \n",
      "A value is trying to be set on a copy of a slice from a DataFrame.\n",
      "Try using .loc[row_indexer,col_indexer] = value instead\n",
      "\n",
      "See the caveats in the documentation: https://pandas.pydata.org/pandas-docs/stable/user_guide/indexing.html#returning-a-view-versus-a-copy\n",
      "  df['Views avg.'] = (df['Views avg.'].replace(r'[KM]+$', '', regex=True).astype(float) * \\\n",
      "C:\\Users\\angela\\AppData\\Local\\Temp\\ipykernel_17620\\2182130126.py:11: SettingWithCopyWarning: \n",
      "A value is trying to be set on a copy of a slice from a DataFrame.\n",
      "Try using .loc[row_indexer,col_indexer] = value instead\n",
      "\n",
      "See the caveats in the documentation: https://pandas.pydata.org/pandas-docs/stable/user_guide/indexing.html#returning-a-view-versus-a-copy\n",
      "  df['Likes avg.'] = (df['Likes avg.'].replace(r'[KM]+$', '', regex=True).astype(float) * \\\n",
      "C:\\Users\\angela\\AppData\\Local\\Temp\\ipykernel_17620\\2182130126.py:16: SettingWithCopyWarning: \n",
      "A value is trying to be set on a copy of a slice from a DataFrame.\n",
      "Try using .loc[row_indexer,col_indexer] = value instead\n",
      "\n",
      "See the caveats in the documentation: https://pandas.pydata.org/pandas-docs/stable/user_guide/indexing.html#returning-a-view-versus-a-copy\n",
      "  df['Comments avg.'] = (df['Comments avg.'].replace(r'[KM]+$', '', regex=True).astype(float) * \\\n",
      "C:\\Users\\angela\\AppData\\Local\\Temp\\ipykernel_17620\\2182130126.py:21: SettingWithCopyWarning: \n",
      "A value is trying to be set on a copy of a slice from a DataFrame.\n",
      "Try using .loc[row_indexer,col_indexer] = value instead\n",
      "\n",
      "See the caveats in the documentation: https://pandas.pydata.org/pandas-docs/stable/user_guide/indexing.html#returning-a-view-versus-a-copy\n",
      "  df['Shares avg.'] = (df['Shares avg.'].replace(r'[KM]+$', '', regex=True).astype(float) * \\\n"
     ]
    }
   ],
   "source": [
    "df['Subscribers'] = (df['Subscribers'].replace(r'[KM]+$', '', regex=True).astype(float) * \\\n",
    "df['Subscribers'].str.extract(r'[\\d\\.]+([KM]+)', expand=False)\n",
    ".fillna(1)\n",
    ".replace(['K','M'], [10**3, 10**6]).astype(int))\n",
    "\n",
    "df['Views avg.'] = (df['Views avg.'].replace(r'[KM]+$', '', regex=True).astype(float) * \\\n",
    "df['Views avg.'].str.extract(r'[\\d\\.]+([KM]+)', expand=False)\n",
    ".fillna(1)\n",
    ".replace(['K','M'], [10**3, 10**6]).astype(int))\n",
    "\n",
    "df['Likes avg.'] = (df['Likes avg.'].replace(r'[KM]+$', '', regex=True).astype(float) * \\\n",
    "df['Likes avg.'].str.extract(r'[\\d\\.]+([KM]+)', expand=False)\n",
    ".fillna(1)\n",
    ".replace(['K','M'], [10**3, 10**6]).astype(int))\n",
    "\n",
    "df['Comments avg.'] = (df['Comments avg.'].replace(r'[KM]+$', '', regex=True).astype(float) * \\\n",
    "df['Comments avg.'].str.extract(r'[\\d\\.]+([KM]+)', expand=False)\n",
    ".fillna(1)\n",
    ".replace(['K','M'], [10**3, 10**6]).astype(int))\n",
    "\n",
    "df['Shares avg.'] = (df['Shares avg.'].replace(r'[KM]+$', '', regex=True).astype(float) * \\\n",
    "df['Shares avg.'].str.extract(r'[\\d\\.]+([KM]+)', expand=False)\n",
    ".fillna(1)\n",
    ".replace(['K','M'], [10**3, 10**6]).astype(int))\n"
   ]
  },
  {
   "cell_type": "code",
   "execution_count": 10,
   "id": "13caf543-3789-4f34-b54d-2284c7d55197",
   "metadata": {},
   "outputs": [
    {
     "data": {
      "text/plain": [
       "Tiktoker name     object\n",
       "Tiktok name       object\n",
       "Subscribers      float64\n",
       "Views avg.       float64\n",
       "Likes avg.       float64\n",
       "Comments avg.    float64\n",
       "Shares avg.      float64\n",
       "dtype: object"
      ]
     },
     "execution_count": 10,
     "metadata": {},
     "output_type": "execute_result"
    }
   ],
   "source": [
    "df.dtypes"
   ]
  },
  {
   "cell_type": "code",
   "execution_count": 11,
   "id": "51a1f907-d9a8-4d5a-acb8-5b8840446ce4",
   "metadata": {},
   "outputs": [
    {
     "data": {
      "text/html": [
       "<div>\n",
       "<style scoped>\n",
       "    .dataframe tbody tr th:only-of-type {\n",
       "        vertical-align: middle;\n",
       "    }\n",
       "\n",
       "    .dataframe tbody tr th {\n",
       "        vertical-align: top;\n",
       "    }\n",
       "\n",
       "    .dataframe thead th {\n",
       "        text-align: right;\n",
       "    }\n",
       "</style>\n",
       "<table border=\"1\" class=\"dataframe\">\n",
       "  <thead>\n",
       "    <tr style=\"text-align: right;\">\n",
       "      <th></th>\n",
       "      <th>Tiktoker name</th>\n",
       "      <th>Tiktok name</th>\n",
       "      <th>Subscribers</th>\n",
       "      <th>Views avg.</th>\n",
       "      <th>Likes avg.</th>\n",
       "      <th>Comments avg.</th>\n",
       "      <th>Shares avg.</th>\n",
       "    </tr>\n",
       "  </thead>\n",
       "  <tbody>\n",
       "    <tr>\n",
       "      <th>0</th>\n",
       "      <td>jypestraykids</td>\n",
       "      <td>Stray Kids</td>\n",
       "      <td>13800000.0</td>\n",
       "      <td>6400000.0</td>\n",
       "      <td>2300000.0</td>\n",
       "      <td>50200.0</td>\n",
       "      <td>34200.0</td>\n",
       "    </tr>\n",
       "    <tr>\n",
       "      <th>1</th>\n",
       "      <td>khaby.lame</td>\n",
       "      <td>Khabane lame</td>\n",
       "      <td>149200000.0</td>\n",
       "      <td>17300000.0</td>\n",
       "      <td>2300000.0</td>\n",
       "      <td>15200.0</td>\n",
       "      <td>8700.0</td>\n",
       "    </tr>\n",
       "    <tr>\n",
       "      <th>2</th>\n",
       "      <td>scarlettsspam2</td>\n",
       "      <td>scarlett</td>\n",
       "      <td>2100000.0</td>\n",
       "      <td>17900000.0</td>\n",
       "      <td>845800.0</td>\n",
       "      <td>53900.0</td>\n",
       "      <td>6300.0</td>\n",
       "    </tr>\n",
       "    <tr>\n",
       "      <th>3</th>\n",
       "      <td>addisonre</td>\n",
       "      <td>Addison Rae</td>\n",
       "      <td>88700000.0</td>\n",
       "      <td>22000000.0</td>\n",
       "      <td>906600.0</td>\n",
       "      <td>7600.0</td>\n",
       "      <td>26200.0</td>\n",
       "    </tr>\n",
       "    <tr>\n",
       "      <th>4</th>\n",
       "      <td>belindatok</td>\n",
       "      <td>Belinda</td>\n",
       "      <td>4800000.0</td>\n",
       "      <td>14200000.0</td>\n",
       "      <td>1500000.0</td>\n",
       "      <td>14500.0</td>\n",
       "      <td>15300.0</td>\n",
       "    </tr>\n",
       "    <tr>\n",
       "      <th>...</th>\n",
       "      <td>...</td>\n",
       "      <td>...</td>\n",
       "      <td>...</td>\n",
       "      <td>...</td>\n",
       "      <td>...</td>\n",
       "      <td>...</td>\n",
       "      <td>...</td>\n",
       "    </tr>\n",
       "    <tr>\n",
       "      <th>995</th>\n",
       "      <td>brendadialoy</td>\n",
       "      <td>Brenda Dialoy</td>\n",
       "      <td>371900.0</td>\n",
       "      <td>1200000.0</td>\n",
       "      <td>187500.0</td>\n",
       "      <td>626.0</td>\n",
       "      <td>2000.0</td>\n",
       "    </tr>\n",
       "    <tr>\n",
       "      <th>996</th>\n",
       "      <td>jujufitcats</td>\n",
       "      <td>Juju Fitcats</td>\n",
       "      <td>4300000.0</td>\n",
       "      <td>2200000.0</td>\n",
       "      <td>280800.0</td>\n",
       "      <td>380.0</td>\n",
       "      <td>558.0</td>\n",
       "    </tr>\n",
       "    <tr>\n",
       "      <th>997</th>\n",
       "      <td>xoteam</td>\n",
       "      <td>XO Team</td>\n",
       "      <td>37800000.0</td>\n",
       "      <td>2500000.0</td>\n",
       "      <td>180200.0</td>\n",
       "      <td>859.0</td>\n",
       "      <td>450.0</td>\n",
       "    </tr>\n",
       "    <tr>\n",
       "      <th>998</th>\n",
       "      <td>kimsnwuo</td>\n",
       "      <td>️️</td>\n",
       "      <td>100900.0</td>\n",
       "      <td>957400.0</td>\n",
       "      <td>226800.0</td>\n",
       "      <td>908.0</td>\n",
       "      <td>1700.0</td>\n",
       "    </tr>\n",
       "    <tr>\n",
       "      <th>999</th>\n",
       "      <td>jass_mcg</td>\n",
       "      <td>jass_mcg</td>\n",
       "      <td>52200.0</td>\n",
       "      <td>503800.0</td>\n",
       "      <td>116000.0</td>\n",
       "      <td>8100.0</td>\n",
       "      <td>1800.0</td>\n",
       "    </tr>\n",
       "  </tbody>\n",
       "</table>\n",
       "<p>999 rows × 7 columns</p>\n",
       "</div>"
      ],
      "text/plain": [
       "      Tiktoker name    Tiktok name  Subscribers  Views avg.  Likes avg.  \\\n",
       "0     jypestraykids     Stray Kids   13800000.0   6400000.0   2300000.0   \n",
       "1        khaby.lame   Khabane lame  149200000.0  17300000.0   2300000.0   \n",
       "2    scarlettsspam2       scarlett    2100000.0  17900000.0    845800.0   \n",
       "3         addisonre    Addison Rae   88700000.0  22000000.0    906600.0   \n",
       "4        belindatok        Belinda    4800000.0  14200000.0   1500000.0   \n",
       "..              ...            ...          ...         ...         ...   \n",
       "995    brendadialoy  Brenda Dialoy     371900.0   1200000.0    187500.0   \n",
       "996     jujufitcats   Juju Fitcats    4300000.0   2200000.0    280800.0   \n",
       "997          xoteam        XO Team   37800000.0   2500000.0    180200.0   \n",
       "998        kimsnwuo             ️️     100900.0    957400.0    226800.0   \n",
       "999        jass_mcg       jass_mcg      52200.0    503800.0    116000.0   \n",
       "\n",
       "     Comments avg.  Shares avg.  \n",
       "0          50200.0      34200.0  \n",
       "1          15200.0       8700.0  \n",
       "2          53900.0       6300.0  \n",
       "3           7600.0      26200.0  \n",
       "4          14500.0      15300.0  \n",
       "..             ...          ...  \n",
       "995          626.0       2000.0  \n",
       "996          380.0        558.0  \n",
       "997          859.0        450.0  \n",
       "998          908.0       1700.0  \n",
       "999         8100.0       1800.0  \n",
       "\n",
       "[999 rows x 7 columns]"
      ]
     },
     "execution_count": 11,
     "metadata": {},
     "output_type": "execute_result"
    }
   ],
   "source": [
    "df"
   ]
  },
  {
   "cell_type": "markdown",
   "id": "a3b2ec65-7919-42a6-adb4-3f972e188b3b",
   "metadata": {},
   "source": [
    "## Mean, Median, Mode, Sum, Count"
   ]
  },
  {
   "cell_type": "code",
   "execution_count": 12,
   "id": "a445fc14-d2de-4ecf-b065-cfa29510cd29",
   "metadata": {},
   "outputs": [
    {
     "name": "stdout",
     "output_type": "stream",
     "text": [
      "7090693.793793794\n",
      "2856087.4874874875\n",
      "352627.82782782783\n",
      "2537.766766766767\n",
      "3263.4464464464463\n"
     ]
    }
   ],
   "source": [
    "print(df['Subscribers'].mean())\n",
    "print(df['Views avg.'].mean())\n",
    "print(df['Likes avg.'].mean())\n",
    "print(df['Comments avg.'].mean())\n",
    "print(df['Shares avg.'].mean())"
   ]
  },
  {
   "cell_type": "code",
   "execution_count": 13,
   "id": "bbfed981-3c21-4d5f-bb92-1717759d34eb",
   "metadata": {},
   "outputs": [
    {
     "name": "stdout",
     "output_type": "stream",
     "text": [
      "3500000.0\n",
      "2200000.0\n",
      "274900.0\n",
      "1600.0\n",
      "1800.0\n"
     ]
    }
   ],
   "source": [
    "print(df['Subscribers'].median())\n",
    "print(df['Views avg.'].median())\n",
    "print(df['Likes avg.'].median())\n",
    "print(df['Comments avg.'].median())\n",
    "print(df['Shares avg.'].median())"
   ]
  },
  {
   "cell_type": "code",
   "execution_count": 14,
   "id": "16b2a4dd-199b-482a-8863-2d0882fc1e58",
   "metadata": {},
   "outputs": [
    {
     "name": "stdout",
     "output_type": "stream",
     "text": [
      "0    1100000.0\n",
      "Name: Subscribers, dtype: float64\n",
      "0    1600000.0\n",
      "Name: Views avg., dtype: float64\n",
      "0    1100000.0\n",
      "Name: Likes avg., dtype: float64\n",
      "0    1400.0\n",
      "Name: Comments avg., dtype: float64\n",
      "0    1300.0\n",
      "Name: Shares avg., dtype: float64\n"
     ]
    }
   ],
   "source": [
    "print(df['Subscribers'].mode())\n",
    "print(df['Views avg.'].mode())\n",
    "print(df['Likes avg.'].mode())\n",
    "print(df['Comments avg.'].mode())\n",
    "print(df['Shares avg.'].mode())"
   ]
  },
  {
   "cell_type": "code",
   "execution_count": 15,
   "id": "8ea7e3da-fdbe-4e62-92ee-61aa0e54c8de",
   "metadata": {},
   "outputs": [
    {
     "name": "stdout",
     "output_type": "stream",
     "text": [
      "7083603100.0\n",
      "2853231400.0\n",
      "352275200.0\n",
      "2535229.0\n",
      "3260183.0\n"
     ]
    }
   ],
   "source": [
    "print(df['Subscribers'].sum())\n",
    "print(df['Views avg.'].sum())\n",
    "print(df['Likes avg.'].sum())\n",
    "print(df['Comments avg.'].sum())\n",
    "print(df['Shares avg.'].sum())"
   ]
  },
  {
   "cell_type": "code",
   "execution_count": 16,
   "id": "281c03a2-a455-450e-a35e-d410350bc8e7",
   "metadata": {},
   "outputs": [
    {
     "name": "stdout",
     "output_type": "stream",
     "text": [
      "999\n",
      "999\n",
      "999\n",
      "999\n",
      "999\n"
     ]
    }
   ],
   "source": [
    "print(df['Subscribers'].count())\n",
    "print(df['Views avg.'].count())\n",
    "print(df['Likes avg.'].count())\n",
    "print(df['Comments avg.'].count())\n",
    "print(df['Shares avg.'].count())"
   ]
  },
  {
   "cell_type": "markdown",
   "id": "198747fe-97fe-4a59-ba30-c7b9d9f6e251",
   "metadata": {},
   "source": [
    "## std, var, IQR"
   ]
  },
  {
   "cell_type": "code",
   "execution_count": 17,
   "id": "14f8b02a-3a7e-4533-baf8-f8874493c90b",
   "metadata": {},
   "outputs": [
    {
     "name": "stdout",
     "output_type": "stream",
     "text": [
      "11609832.80580642\n",
      "2216568.628674682\n",
      "286269.1873073131\n",
      "3692.961026187326\n",
      "4780.954926047169\n"
     ]
    }
   ],
   "source": [
    "print(df['Subscribers'].std())\n",
    "print(df['Views avg.'].std())\n",
    "print(df['Likes avg.'].std())\n",
    "print(df['Comments avg.'].std())\n",
    "print(df['Shares avg.'].std())"
   ]
  },
  {
   "cell_type": "code",
   "execution_count": 18,
   "id": "61cf1aeb-6429-41fd-b006-260eb4b1bcc3",
   "metadata": {},
   "outputs": [
    {
     "name": "stdout",
     "output_type": "stream",
     "text": [
      "134788217778779.0\n",
      "4913176485624.761\n",
      "81950047601.5895\n",
      "13637961.140938548\n",
      "22857530.00489469\n"
     ]
    }
   ],
   "source": [
    "print(df['Subscribers'].var())\n",
    "print(df['Views avg.'].var())\n",
    "print(df['Likes avg.'].var())\n",
    "print(df['Comments avg.'].var())\n",
    "print(df['Shares avg.'].var())"
   ]
  },
  {
   "cell_type": "code",
   "execution_count": 19,
   "id": "bca01d94-6122-4043-b0dc-6e46b40ecdfe",
   "metadata": {},
   "outputs": [
    {
     "data": {
      "text/plain": [
       "array([1300000., 3500000., 8100000.])"
      ]
     },
     "execution_count": 19,
     "metadata": {},
     "output_type": "execute_result"
    }
   ],
   "source": [
    "np.percentile(df.Subscribers, [25, 50, 75])"
   ]
  },
  {
   "cell_type": "code",
   "execution_count": 20,
   "id": "1de689f0-1c0f-4688-aa37-72fe07e54e46",
   "metadata": {},
   "outputs": [
    {
     "data": {
      "text/plain": [
       "6800000.0"
      ]
     },
     "execution_count": 20,
     "metadata": {},
     "output_type": "execute_result"
    }
   ],
   "source": [
    "Q1 = np.percentile(df.Subscribers,25)\n",
    "Q3 = np.percentile(df.Subscribers,75)\n",
    "IQR = Q3 - Q1\n",
    "IQR"
   ]
  },
  {
   "cell_type": "code",
   "execution_count": 21,
   "id": "6e647120-95c0-46bc-b021-03f222d66571",
   "metadata": {},
   "outputs": [
    {
     "data": {
      "text/plain": [
       "array([1600000., 2200000., 3350000.])"
      ]
     },
     "execution_count": 21,
     "metadata": {},
     "output_type": "execute_result"
    }
   ],
   "source": [
    "np.percentile(df['Views avg.'],[25, 50, 75])"
   ]
  },
  {
   "cell_type": "code",
   "execution_count": 22,
   "id": "95f0891f-fd39-42d7-8bc0-90629a526a97",
   "metadata": {},
   "outputs": [
    {
     "data": {
      "text/plain": [
       "1750000.0"
      ]
     },
     "execution_count": 22,
     "metadata": {},
     "output_type": "execute_result"
    }
   ],
   "source": [
    "Q1 = np.percentile(df['Views avg.'],25)\n",
    "Q3 = np.percentile(df['Views avg.'],75)\n",
    "IQR = Q3 - Q1\n",
    "IQR"
   ]
  },
  {
   "cell_type": "code",
   "execution_count": 23,
   "id": "ed7b8504-2f8c-45e2-8945-b00502a263ef",
   "metadata": {},
   "outputs": [
    {
     "data": {
      "text/plain": [
       "array([190000., 274900., 400750.])"
      ]
     },
     "execution_count": 23,
     "metadata": {},
     "output_type": "execute_result"
    }
   ],
   "source": [
    "np.percentile(df['Likes avg.'],[25, 50, 75])"
   ]
  },
  {
   "cell_type": "code",
   "execution_count": 24,
   "id": "dc1f8ba9-d29b-44e0-93f6-ef2d8ec9f6a4",
   "metadata": {},
   "outputs": [
    {
     "data": {
      "text/plain": [
       "210750.0"
      ]
     },
     "execution_count": 24,
     "metadata": {},
     "output_type": "execute_result"
    }
   ],
   "source": [
    "Q1 = np.percentile(df['Likes avg.'],25)\n",
    "Q3 = np.percentile(df['Likes avg.'],75)\n",
    "IQR = Q3 - Q1\n",
    "IQR"
   ]
  },
  {
   "cell_type": "code",
   "execution_count": 25,
   "id": "902dbcc4-116b-48ab-ab5e-d30284a62de9",
   "metadata": {},
   "outputs": [
    {
     "data": {
      "text/plain": [
       "array([ 984., 1600., 2700.])"
      ]
     },
     "execution_count": 25,
     "metadata": {},
     "output_type": "execute_result"
    }
   ],
   "source": [
    "np.percentile(df['Comments avg.'],[25, 50, 75])"
   ]
  },
  {
   "cell_type": "code",
   "execution_count": 26,
   "id": "38494641-5ebf-4f8b-80eb-9b8d79cc45d9",
   "metadata": {},
   "outputs": [
    {
     "data": {
      "text/plain": [
       "1716.0"
      ]
     },
     "execution_count": 26,
     "metadata": {},
     "output_type": "execute_result"
    }
   ],
   "source": [
    "Q1 = np.percentile(df['Comments avg.'],25)\n",
    "Q3 = np.percentile(df['Comments avg.'],75)\n",
    "IQR = Q3 - Q1\n",
    "IQR"
   ]
  },
  {
   "cell_type": "code",
   "execution_count": 27,
   "id": "e86e9080-8d99-47a8-ac96-de11282ed3f0",
   "metadata": {},
   "outputs": [
    {
     "data": {
      "text/plain": [
       "array([ 822., 1800., 3750.])"
      ]
     },
     "execution_count": 27,
     "metadata": {},
     "output_type": "execute_result"
    }
   ],
   "source": [
    "np.percentile(df['Shares avg.'],[25, 50, 75])"
   ]
  },
  {
   "cell_type": "code",
   "execution_count": 28,
   "id": "13cf4aed-1792-4f9e-a012-14bae020faec",
   "metadata": {},
   "outputs": [
    {
     "data": {
      "text/plain": [
       "2928.0"
      ]
     },
     "execution_count": 28,
     "metadata": {},
     "output_type": "execute_result"
    }
   ],
   "source": [
    "Q1 = np.percentile(df['Shares avg.'],25)\n",
    "Q3 = np.percentile(df['Shares avg.'],75)\n",
    "IQR = Q3 - Q1\n",
    "IQR"
   ]
  },
  {
   "cell_type": "markdown",
   "id": "8d4b773e-a9ce-4452-a8d6-712d63d73a39",
   "metadata": {},
   "source": [
    "## Data Visualization"
   ]
  },
  {
   "cell_type": "code",
   "execution_count": 29,
   "id": "b7821403-3c2a-45b0-a57f-cd04c4c84563",
   "metadata": {},
   "outputs": [
    {
     "data": {
      "text/html": [
       "<div>\n",
       "<style scoped>\n",
       "    .dataframe tbody tr th:only-of-type {\n",
       "        vertical-align: middle;\n",
       "    }\n",
       "\n",
       "    .dataframe tbody tr th {\n",
       "        vertical-align: top;\n",
       "    }\n",
       "\n",
       "    .dataframe thead th {\n",
       "        text-align: right;\n",
       "    }\n",
       "</style>\n",
       "<table border=\"1\" class=\"dataframe\">\n",
       "  <thead>\n",
       "    <tr style=\"text-align: right;\">\n",
       "      <th></th>\n",
       "      <th>Tiktoker name</th>\n",
       "      <th>Tiktok name</th>\n",
       "      <th>Subscribers</th>\n",
       "      <th>Views avg.</th>\n",
       "      <th>Likes avg.</th>\n",
       "      <th>Comments avg.</th>\n",
       "      <th>Shares avg.</th>\n",
       "    </tr>\n",
       "  </thead>\n",
       "  <tbody>\n",
       "    <tr>\n",
       "      <th>1</th>\n",
       "      <td>khaby.lame</td>\n",
       "      <td>Khabane lame</td>\n",
       "      <td>149200000.0</td>\n",
       "      <td>17300000.0</td>\n",
       "      <td>2300000.0</td>\n",
       "      <td>15200.0</td>\n",
       "      <td>8700.0</td>\n",
       "    </tr>\n",
       "    <tr>\n",
       "      <th>10</th>\n",
       "      <td>charlidamelio</td>\n",
       "      <td>charli d’amelio</td>\n",
       "      <td>146200000.0</td>\n",
       "      <td>15200000.0</td>\n",
       "      <td>959400.0</td>\n",
       "      <td>20800.0</td>\n",
       "      <td>4600.0</td>\n",
       "    </tr>\n",
       "    <tr>\n",
       "      <th>74</th>\n",
       "      <td>bellapoarch</td>\n",
       "      <td>Bella Poarch</td>\n",
       "      <td>91400000.0</td>\n",
       "      <td>7400000.0</td>\n",
       "      <td>677300.0</td>\n",
       "      <td>4900.0</td>\n",
       "      <td>1100.0</td>\n",
       "    </tr>\n",
       "    <tr>\n",
       "      <th>3</th>\n",
       "      <td>addisonre</td>\n",
       "      <td>Addison Rae</td>\n",
       "      <td>88700000.0</td>\n",
       "      <td>22000000.0</td>\n",
       "      <td>906600.0</td>\n",
       "      <td>7600.0</td>\n",
       "      <td>26200.0</td>\n",
       "    </tr>\n",
       "    <tr>\n",
       "      <th>19</th>\n",
       "      <td>kimberly.loaiza</td>\n",
       "      <td>Kimberly Loaiza</td>\n",
       "      <td>67200000.0</td>\n",
       "      <td>8800000.0</td>\n",
       "      <td>1200000.0</td>\n",
       "      <td>12100.0</td>\n",
       "      <td>4300.0</td>\n",
       "    </tr>\n",
       "    <tr>\n",
       "      <th>...</th>\n",
       "      <td>...</td>\n",
       "      <td>...</td>\n",
       "      <td>...</td>\n",
       "      <td>...</td>\n",
       "      <td>...</td>\n",
       "      <td>...</td>\n",
       "      <td>...</td>\n",
       "    </tr>\n",
       "    <tr>\n",
       "      <th>206</th>\n",
       "      <td>iamprisleeciyi</td>\n",
       "      <td>Priscilla ◡̈</td>\n",
       "      <td>13900.0</td>\n",
       "      <td>2300000.0</td>\n",
       "      <td>522900.0</td>\n",
       "      <td>1200.0</td>\n",
       "      <td>4200.0</td>\n",
       "    </tr>\n",
       "    <tr>\n",
       "      <th>307</th>\n",
       "      <td>meganfitton6</td>\n",
       "      <td>user3892932795857</td>\n",
       "      <td>8700.0</td>\n",
       "      <td>2000000.0</td>\n",
       "      <td>315300.0</td>\n",
       "      <td>1600.0</td>\n",
       "      <td>4400.0</td>\n",
       "    </tr>\n",
       "    <tr>\n",
       "      <th>190</th>\n",
       "      <td>wilmah10</td>\n",
       "      <td>wilmah10</td>\n",
       "      <td>6300.0</td>\n",
       "      <td>2900000.0</td>\n",
       "      <td>208200.0</td>\n",
       "      <td>2700.0</td>\n",
       "      <td>9900.0</td>\n",
       "    </tr>\n",
       "    <tr>\n",
       "      <th>244</th>\n",
       "      <td>straange_56guuuuy</td>\n",
       "      <td>aikihoruus?</td>\n",
       "      <td>5900.0</td>\n",
       "      <td>1500000.0</td>\n",
       "      <td>276600.0</td>\n",
       "      <td>2200.0</td>\n",
       "      <td>10800.0</td>\n",
       "    </tr>\n",
       "    <tr>\n",
       "      <th>776</th>\n",
       "      <td>soapinmymouthoncemore</td>\n",
       "      <td>tedwards</td>\n",
       "      <td>5100.0</td>\n",
       "      <td>943300.0</td>\n",
       "      <td>189600.0</td>\n",
       "      <td>1900.0</td>\n",
       "      <td>3100.0</td>\n",
       "    </tr>\n",
       "  </tbody>\n",
       "</table>\n",
       "<p>999 rows × 7 columns</p>\n",
       "</div>"
      ],
      "text/plain": [
       "             Tiktoker name        Tiktok name  Subscribers  Views avg.  \\\n",
       "1               khaby.lame       Khabane lame  149200000.0  17300000.0   \n",
       "10           charlidamelio    charli d’amelio  146200000.0  15200000.0   \n",
       "74             bellapoarch       Bella Poarch   91400000.0   7400000.0   \n",
       "3                addisonre        Addison Rae   88700000.0  22000000.0   \n",
       "19         kimberly.loaiza    Kimberly Loaiza   67200000.0   8800000.0   \n",
       "..                     ...                ...          ...         ...   \n",
       "206         iamprisleeciyi       Priscilla ◡̈      13900.0   2300000.0   \n",
       "307           meganfitton6  user3892932795857       8700.0   2000000.0   \n",
       "190               wilmah10           wilmah10       6300.0   2900000.0   \n",
       "244      straange_56guuuuy        aikihoruus?       5900.0   1500000.0   \n",
       "776  soapinmymouthoncemore           tedwards       5100.0    943300.0   \n",
       "\n",
       "     Likes avg.  Comments avg.  Shares avg.  \n",
       "1     2300000.0        15200.0       8700.0  \n",
       "10     959400.0        20800.0       4600.0  \n",
       "74     677300.0         4900.0       1100.0  \n",
       "3      906600.0         7600.0      26200.0  \n",
       "19    1200000.0        12100.0       4300.0  \n",
       "..          ...            ...          ...  \n",
       "206    522900.0         1200.0       4200.0  \n",
       "307    315300.0         1600.0       4400.0  \n",
       "190    208200.0         2700.0       9900.0  \n",
       "244    276600.0         2200.0      10800.0  \n",
       "776    189600.0         1900.0       3100.0  \n",
       "\n",
       "[999 rows x 7 columns]"
      ]
     },
     "execution_count": 29,
     "metadata": {},
     "output_type": "execute_result"
    }
   ],
   "source": [
    "subs = df.sort_values(by = [\"Subscribers\"], ascending = False)\n",
    "subs"
   ]
  },
  {
   "cell_type": "code",
   "execution_count": 30,
   "id": "838aa3ff-bf82-4f46-961f-9542470ba423",
   "metadata": {},
   "outputs": [
    {
     "data": {
      "text/html": [
       "<div>\n",
       "<style scoped>\n",
       "    .dataframe tbody tr th:only-of-type {\n",
       "        vertical-align: middle;\n",
       "    }\n",
       "\n",
       "    .dataframe tbody tr th {\n",
       "        vertical-align: top;\n",
       "    }\n",
       "\n",
       "    .dataframe thead th {\n",
       "        text-align: right;\n",
       "    }\n",
       "</style>\n",
       "<table border=\"1\" class=\"dataframe\">\n",
       "  <thead>\n",
       "    <tr style=\"text-align: right;\">\n",
       "      <th></th>\n",
       "      <th>Tiktoker name</th>\n",
       "      <th>Tiktok name</th>\n",
       "      <th>Subscribers</th>\n",
       "      <th>Views avg.</th>\n",
       "      <th>Likes avg.</th>\n",
       "      <th>Comments avg.</th>\n",
       "      <th>Shares avg.</th>\n",
       "    </tr>\n",
       "  </thead>\n",
       "  <tbody>\n",
       "    <tr>\n",
       "      <th>1</th>\n",
       "      <td>khaby.lame</td>\n",
       "      <td>Khabane lame</td>\n",
       "      <td>149200000.0</td>\n",
       "      <td>17300000.0</td>\n",
       "      <td>2300000.0</td>\n",
       "      <td>15200.0</td>\n",
       "      <td>8700.0</td>\n",
       "    </tr>\n",
       "    <tr>\n",
       "      <th>10</th>\n",
       "      <td>charlidamelio</td>\n",
       "      <td>charli d’amelio</td>\n",
       "      <td>146200000.0</td>\n",
       "      <td>15200000.0</td>\n",
       "      <td>959400.0</td>\n",
       "      <td>20800.0</td>\n",
       "      <td>4600.0</td>\n",
       "    </tr>\n",
       "    <tr>\n",
       "      <th>74</th>\n",
       "      <td>bellapoarch</td>\n",
       "      <td>Bella Poarch</td>\n",
       "      <td>91400000.0</td>\n",
       "      <td>7400000.0</td>\n",
       "      <td>677300.0</td>\n",
       "      <td>4900.0</td>\n",
       "      <td>1100.0</td>\n",
       "    </tr>\n",
       "    <tr>\n",
       "      <th>3</th>\n",
       "      <td>addisonre</td>\n",
       "      <td>Addison Rae</td>\n",
       "      <td>88700000.0</td>\n",
       "      <td>22000000.0</td>\n",
       "      <td>906600.0</td>\n",
       "      <td>7600.0</td>\n",
       "      <td>26200.0</td>\n",
       "    </tr>\n",
       "    <tr>\n",
       "      <th>19</th>\n",
       "      <td>kimberly.loaiza</td>\n",
       "      <td>Kimberly Loaiza</td>\n",
       "      <td>67200000.0</td>\n",
       "      <td>8800000.0</td>\n",
       "      <td>1200000.0</td>\n",
       "      <td>12100.0</td>\n",
       "      <td>4300.0</td>\n",
       "    </tr>\n",
       "    <tr>\n",
       "      <th>326</th>\n",
       "      <td>cznburak</td>\n",
       "      <td>cznburak</td>\n",
       "      <td>63600000.0</td>\n",
       "      <td>4600000.0</td>\n",
       "      <td>228400.0</td>\n",
       "      <td>2300.0</td>\n",
       "      <td>978.0</td>\n",
       "    </tr>\n",
       "    <tr>\n",
       "      <th>16</th>\n",
       "      <td>domelipa</td>\n",
       "      <td>domelipa</td>\n",
       "      <td>58100000.0</td>\n",
       "      <td>10400000.0</td>\n",
       "      <td>1500000.0</td>\n",
       "      <td>9100.0</td>\n",
       "      <td>3500.0</td>\n",
       "    </tr>\n",
       "    <tr>\n",
       "      <th>630</th>\n",
       "      <td>dixiedamelio</td>\n",
       "      <td>dixie</td>\n",
       "      <td>57400000.0</td>\n",
       "      <td>2400000.0</td>\n",
       "      <td>220500.0</td>\n",
       "      <td>1900.0</td>\n",
       "      <td>424.0</td>\n",
       "    </tr>\n",
       "    <tr>\n",
       "      <th>6</th>\n",
       "      <td>therock</td>\n",
       "      <td>The Rock</td>\n",
       "      <td>55400000.0</td>\n",
       "      <td>13100000.0</td>\n",
       "      <td>1500000.0</td>\n",
       "      <td>14300.0</td>\n",
       "      <td>11900.0</td>\n",
       "    </tr>\n",
       "  </tbody>\n",
       "</table>\n",
       "</div>"
      ],
      "text/plain": [
       "       Tiktoker name      Tiktok name  Subscribers  Views avg.  Likes avg.  \\\n",
       "1         khaby.lame     Khabane lame  149200000.0  17300000.0   2300000.0   \n",
       "10     charlidamelio  charli d’amelio  146200000.0  15200000.0    959400.0   \n",
       "74       bellapoarch     Bella Poarch   91400000.0   7400000.0    677300.0   \n",
       "3          addisonre      Addison Rae   88700000.0  22000000.0    906600.0   \n",
       "19   kimberly.loaiza  Kimberly Loaiza   67200000.0   8800000.0   1200000.0   \n",
       "326         cznburak         cznburak   63600000.0   4600000.0    228400.0   \n",
       "16          domelipa         domelipa   58100000.0  10400000.0   1500000.0   \n",
       "630     dixiedamelio            dixie   57400000.0   2400000.0    220500.0   \n",
       "6            therock         The Rock   55400000.0  13100000.0   1500000.0   \n",
       "\n",
       "     Comments avg.  Shares avg.  \n",
       "1          15200.0       8700.0  \n",
       "10         20800.0       4600.0  \n",
       "74          4900.0       1100.0  \n",
       "3           7600.0      26200.0  \n",
       "19         12100.0       4300.0  \n",
       "326         2300.0        978.0  \n",
       "16          9100.0       3500.0  \n",
       "630         1900.0        424.0  \n",
       "6          14300.0      11900.0  "
      ]
     },
     "execution_count": 30,
     "metadata": {},
     "output_type": "execute_result"
    }
   ],
   "source": [
    "df1 = subs.iloc[0:9]\n",
    "df1"
   ]
  },
  {
   "cell_type": "markdown",
   "id": "2338ab51-5236-42da-9ca3-d97b2599799e",
   "metadata": {},
   "source": [
    "#### Line Chart"
   ]
  },
  {
   "cell_type": "code",
   "execution_count": 31,
   "id": "e1609d7f-9edc-4052-88be-902cfa25ef18",
   "metadata": {},
   "outputs": [],
   "source": [
    "user = df1['Tiktoker name']\n",
    "sub = df1['Subscribers']\n",
    "view = df1['Views avg.']\n",
    "like = df1['Likes avg.']\n",
    "comment = df1['Comments avg.']\n",
    "share = df1['Shares avg.']"
   ]
  },
  {
   "cell_type": "code",
   "execution_count": 32,
   "id": "c0e45a4c-8fb6-4891-8f23-b192b9e93b1e",
   "metadata": {},
   "outputs": [
    {
     "data": {
      "text/plain": [
       "<matplotlib.legend.Legend at 0x29a08402610>"
      ]
     },
     "execution_count": 32,
     "metadata": {},
     "output_type": "execute_result"
    },
    {
     "data": {
      "image/png": "[encoded data removed]",
      "text/plain": [
       "<Figure size 432x288 with 1 Axes>"
      ]
     },
     "metadata": {
      "needs_background": "light"
     },
     "output_type": "display_data"
    }
   ],
   "source": [
    "fig = plt.figure()\n",
    "myaxes = fig.add_axes([0.1,0.1,1.5,1.5])\n",
    "myaxes.plot(user, sub, 'b', label = 'Subscribers')\n",
    "myaxes.plot(user, view, 'r', label = 'Views avg.')\n",
    "myaxes.legend()"
   ]
  },
  {
   "cell_type": "code",
   "execution_count": 33,
   "id": "fa7b9563-e1fb-49c1-8ffc-e3f2db88dee9",
   "metadata": {},
   "outputs": [
    {
     "data": {
      "text/plain": [
       "<matplotlib.legend.Legend at 0x29a0878ca90>"
      ]
     },
     "execution_count": 33,
     "metadata": {},
     "output_type": "execute_result"
    },
    {
     "data": {
      "image/png": "[encoded data removed]",
      "text/plain": [
       "<Figure size 432x288 with 1 Axes>"
      ]
     },
     "metadata": {
      "needs_background": "light"
     },
     "output_type": "display_data"
    }
   ],
   "source": [
    "fig = plt.figure()\n",
    "myaxes = fig.add_axes([0.1,0.1,1.6,1.6])\n",
    "myaxes.plot(user, view, 'green', label = 'view avg.')\n",
    "myaxes.plot(user, like, 'purple', label = 'like avg.')\n",
    "myaxes.legend()"
   ]
  },
  {
   "cell_type": "markdown",
   "id": "53fa39bf-1b7c-4888-9643-51b44055a2b2",
   "metadata": {},
   "source": [
    "#### Bar Chart"
   ]
  },
  {
   "cell_type": "code",
   "execution_count": 34,
   "id": "16f1fb45-c811-4c85-8359-8503b2b5ee43",
   "metadata": {},
   "outputs": [
    {
     "data": {
      "image/png": "[encoded data removed]",
      "text/plain": [
       "<Figure size 576x432 with 1 Axes>"
      ]
     },
     "metadata": {
      "needs_background": "light"
     },
     "output_type": "display_data"
    }
   ],
   "source": [
    "#create the base axis\n",
    "fig, ax = plt.subplots(1,1, figsize = (8,6))\n",
    "\n",
    "#set the labels\n",
    "#and the x positions\n",
    "label = df1[\"Tiktoker name\"]\n",
    "x = np.arange(len(label))\n",
    "\n",
    "#set the width of the bars\n",
    "width = 0.2\n",
    "#create the first bar -1 width\n",
    "rect1 = ax.bar(x - width,\n",
    "              df1[\"Subscribers\"],\n",
    "              width = width, \n",
    "               label = 'Subscribers',\n",
    "               edgecolor = \"black\")\n",
    "#create the second bar using x\n",
    "rect2 = ax.bar(x,\n",
    "              df1[\"Views avg.\"],\n",
    "              width = width,\n",
    "              label = 'Views avg',\n",
    "              edgecolor = \"black\")\n",
    "#create the third bar plus 1 width\n",
    "rect3 = ax.bar(x,\n",
    "              df1[\"Likes avg.\"],\n",
    "              width = width,\n",
    "              label = 'Likes avg',\n",
    "              edgecolor = \"black\")\n",
    "rect4 = ax.bar(x,\n",
    "              df1[\"Shares avg.\"],\n",
    "              width = width,\n",
    "              label = 'Shares avg',\n",
    "              edgecolor = \"black\")\n",
    "rect5 = ax.bar(x,\n",
    "              df1[\"Comments avg.\"],\n",
    "              width = width,\n",
    "              label = 'Comments avg',\n",
    "              edgecolor = \"black\")\n",
    "\n",
    "#add the labels to the axis\n",
    "ax.set_ylabel(\"Value\",\n",
    "             fontsize = 25,\n",
    "             labelpad = 20)\n",
    "ax.set_xlabel(\"Tiktoker Name\",\n",
    "             fontsize = 25,\n",
    "             labelpad =20)\n",
    "\n",
    "#set the ticks\n",
    "#using the labels\n",
    "ax.set_xticks(x)\n",
    "ax.set_xticklabels(label)\n",
    "#add the legend\n",
    "ax.legend(title = \"Bar chart\",\n",
    "         fontsize = 16,\n",
    "         title_fontsize = 20,\n",
    "         bbox_to_anchor = (1.02, 0.7))\n",
    "#adjust the tick paramaters\n",
    "ax.tick_params(axis = \"x\",\n",
    "              which = \"both\",\n",
    "              labelrotation = 90,\n",
    "              labelsize = 20)\n",
    "ax.tick_params(axis = \"y\",\n",
    "              which = \"both\",\n",
    "              labelsize = 20)"
   ]
  },
  {
   "cell_type": "markdown",
   "id": "ef6bba29-5f7f-4b23-a39e-0151c9975f39",
   "metadata": {},
   "source": [
    "#### Boxplot"
   ]
  },
  {
   "cell_type": "code",
   "execution_count": 35,
   "id": "48d7f29d-a68f-4ff4-848e-0218c0a4c557",
   "metadata": {},
   "outputs": [
    {
     "data": {
      "text/plain": [
       "{'whiskers': [<matplotlib.lines.Line2D at 0x29a08931fd0>,\n",
       "  <matplotlib.lines.Line2D at 0x29a089412e0>],\n",
       " 'caps': [<matplotlib.lines.Line2D at 0x29a089415b0>,\n",
       "  <matplotlib.lines.Line2D at 0x29a08941880>],\n",
       " 'boxes': [<matplotlib.lines.Line2D at 0x29a08931d00>],\n",
       " 'medians': [<matplotlib.lines.Line2D at 0x29a08941b50>],\n",
       " 'fliers': [<matplotlib.lines.Line2D at 0x29a08941e20>],\n",
       " 'means': []}"
      ]
     },
     "execution_count": 35,
     "metadata": {},
     "output_type": "execute_result"
    },
    {
     "data": {
      "image/png": "[encoded data removed]",
      "text/plain": [
       "<Figure size 432x288 with 1 Axes>"
      ]
     },
     "metadata": {
      "needs_background": "light"
     },
     "output_type": "display_data"
    }
   ],
   "source": [
    "plt.boxplot(df['Subscribers'])"
   ]
  },
  {
   "cell_type": "code",
   "execution_count": 36,
   "id": "66142f10-e913-49fd-82ba-4b7a1c144565",
   "metadata": {},
   "outputs": [
    {
     "data": {
      "text/plain": [
       "{'whiskers': [<matplotlib.lines.Line2D at 0x29a08b438b0>,\n",
       "  <matplotlib.lines.Line2D at 0x29a08b43b80>],\n",
       " 'caps': [<matplotlib.lines.Line2D at 0x29a08b43e50>,\n",
       "  <matplotlib.lines.Line2D at 0x29a08b51160>],\n",
       " 'boxes': [<matplotlib.lines.Line2D at 0x29a08b435e0>],\n",
       " 'medians': [<matplotlib.lines.Line2D at 0x29a08b51430>],\n",
       " 'fliers': [<matplotlib.lines.Line2D at 0x29a08b51700>],\n",
       " 'means': []}"
      ]
     },
     "execution_count": 36,
     "metadata": {},
     "output_type": "execute_result"
    },
    {
     "data": {
      "image/png": "[encoded data removed]",
      "text/plain": [
       "<Figure size 432x288 with 1 Axes>"
      ]
     },
     "metadata": {
      "needs_background": "light"
     },
     "output_type": "display_data"
    }
   ],
   "source": [
    "plt.boxplot(df['Views avg.'])"
   ]
  },
  {
   "cell_type": "code",
   "execution_count": 37,
   "id": "714b7e90-a974-4dc0-a426-d70a81f6f5d9",
   "metadata": {},
   "outputs": [
    {
     "data": {
      "text/plain": [
       "{'whiskers': [<matplotlib.lines.Line2D at 0x29a08ba8340>,\n",
       "  <matplotlib.lines.Line2D at 0x29a08ba8610>],\n",
       " 'caps': [<matplotlib.lines.Line2D at 0x29a08ba88e0>,\n",
       "  <matplotlib.lines.Line2D at 0x29a08ba8bb0>],\n",
       " 'boxes': [<matplotlib.lines.Line2D at 0x29a08ba8070>],\n",
       " 'medians': [<matplotlib.lines.Line2D at 0x29a08ba8e80>],\n",
       " 'fliers': [<matplotlib.lines.Line2D at 0x29a08bb7190>],\n",
       " 'means': []}"
      ]
     },
     "execution_count": 37,
     "metadata": {},
     "output_type": "execute_result"
    },
    {
     "data": {
      "image/png": "[encoded data removed]",
      "text/plain": [
       "<Figure size 432x288 with 1 Axes>"
      ]
     },
     "metadata": {
      "needs_background": "light"
     },
     "output_type": "display_data"
    }
   ],
   "source": [
    "plt.boxplot(df['Likes avg.'])"
   ]
  },
  {
   "cell_type": "code",
   "execution_count": 38,
   "id": "ea4b962c-e525-4433-bfbd-0decdd2296ab",
   "metadata": {},
   "outputs": [
    {
     "data": {
      "text/plain": [
       "{'whiskers': [<matplotlib.lines.Line2D at 0x29a08c0c400>,\n",
       "  <matplotlib.lines.Line2D at 0x29a08c0c700>],\n",
       " 'caps': [<matplotlib.lines.Line2D at 0x29a08c0c9d0>,\n",
       "  <matplotlib.lines.Line2D at 0x29a08c0cca0>],\n",
       " 'boxes': [<matplotlib.lines.Line2D at 0x29a08c0c130>],\n",
       " 'medians': [<matplotlib.lines.Line2D at 0x29a08c0cf70>],\n",
       " 'fliers': [<matplotlib.lines.Line2D at 0x29a08c16280>],\n",
       " 'means': []}"
      ]
     },
     "execution_count": 38,
     "metadata": {},
     "output_type": "execute_result"
    },
    {
     "data": {
      "image/png": "[encoded data removed]",
      "text/plain": [
       "<Figure size 432x288 with 1 Axes>"
      ]
     },
     "metadata": {
      "needs_background": "light"
     },
     "output_type": "display_data"
    }
   ],
   "source": [
    "plt.boxplot(df['Comments avg.'])"
   ]
  },
  {
   "cell_type": "code",
   "execution_count": 39,
   "id": "d8a4ad56-852a-47b2-9301-b57485002958",
   "metadata": {},
   "outputs": [
    {
     "data": {
      "text/plain": [
       "{'whiskers': [<matplotlib.lines.Line2D at 0x29a08c564c0>,\n",
       "  <matplotlib.lines.Line2D at 0x29a08c56790>],\n",
       " 'caps': [<matplotlib.lines.Line2D at 0x29a08c56a60>,\n",
       "  <matplotlib.lines.Line2D at 0x29a08c56d30>],\n",
       " 'boxes': [<matplotlib.lines.Line2D at 0x29a08c561f0>],\n",
       " 'medians': [<matplotlib.lines.Line2D at 0x29a08c62040>],\n",
       " 'fliers': [<matplotlib.lines.Line2D at 0x29a08c62310>],\n",
       " 'means': []}"
      ]
     },
     "execution_count": 39,
     "metadata": {},
     "output_type": "execute_result"
    },
    {
     "data": {
      "image/png": "[encoded data removed]",
      "text/plain": [
       "<Figure size 432x288 with 1 Axes>"
      ]
     },
     "metadata": {
      "needs_background": "light"
     },
     "output_type": "display_data"
    }
   ],
   "source": [
    "plt.boxplot(df['Shares avg.'])"
   ]
  },
  {
   "cell_type": "code",
   "execution_count": 40,
   "id": "07f02177-c0ee-4284-8613-a2bd13e9b9be",
   "metadata": {},
   "outputs": [
    {
     "data": {
      "text/plain": [
       "{'whiskers': [<matplotlib.lines.Line2D at 0x29a08cb5520>,\n",
       "  <matplotlib.lines.Line2D at 0x29a08cb57f0>],\n",
       " 'caps': [<matplotlib.lines.Line2D at 0x29a08cb5ac0>,\n",
       "  <matplotlib.lines.Line2D at 0x29a08cb5d90>],\n",
       " 'boxes': [<matplotlib.lines.Line2D at 0x29a08cb5220>],\n",
       " 'medians': [<matplotlib.lines.Line2D at 0x29a08cc10a0>],\n",
       " 'fliers': [<matplotlib.lines.Line2D at 0x29a08cc1370>],\n",
       " 'means': []}"
      ]
     },
     "execution_count": 40,
     "metadata": {},
     "output_type": "execute_result"
    },
    {
     "data": {
      "image/png": "[encoded data removed]",
      "text/plain": [
       "<Figure size 432x288 with 1 Axes>"
      ]
     },
     "metadata": {
      "needs_background": "light"
     },
     "output_type": "display_data"
    }
   ],
   "source": [
    "plt.boxplot(df1['Subscribers'])"
   ]
  },
  {
   "cell_type": "code",
   "execution_count": 41,
   "id": "ce082fc0-8e7e-4669-aecb-3a24e316a9fc",
   "metadata": {},
   "outputs": [
    {
     "data": {
      "text/plain": [
       "{'whiskers': [<matplotlib.lines.Line2D at 0x29a08d0af70>,\n",
       "  <matplotlib.lines.Line2D at 0x29a08d18280>],\n",
       " 'caps': [<matplotlib.lines.Line2D at 0x29a08d18550>,\n",
       "  <matplotlib.lines.Line2D at 0x29a08d18820>],\n",
       " 'boxes': [<matplotlib.lines.Line2D at 0x29a08d0ac70>],\n",
       " 'medians': [<matplotlib.lines.Line2D at 0x29a08d18af0>],\n",
       " 'fliers': [<matplotlib.lines.Line2D at 0x29a08d18dc0>],\n",
       " 'means': []}"
      ]
     },
     "execution_count": 41,
     "metadata": {},
     "output_type": "execute_result"
    },
    {
     "data": {
      "image/png": "[encoded data removed]",
      "text/plain": [
       "<Figure size 432x288 with 1 Axes>"
      ]
     },
     "metadata": {
      "needs_background": "light"
     },
     "output_type": "display_data"
    }
   ],
   "source": [
    "plt.boxplot(df1['Views avg.'])"
   ]
  },
  {
   "cell_type": "code",
   "execution_count": 42,
   "id": "4f07676b-501e-427f-a036-2711fdc6c330",
   "metadata": {},
   "outputs": [
    {
     "data": {
      "text/plain": [
       "{'whiskers': [<matplotlib.lines.Line2D at 0x29a08d81280>,\n",
       "  <matplotlib.lines.Line2D at 0x29a08d814f0>],\n",
       " 'caps': [<matplotlib.lines.Line2D at 0x29a08d817c0>,\n",
       "  <matplotlib.lines.Line2D at 0x29a08d81a90>],\n",
       " 'boxes': [<matplotlib.lines.Line2D at 0x29a08d74f70>],\n",
       " 'medians': [<matplotlib.lines.Line2D at 0x29a08d81d60>],\n",
       " 'fliers': [<matplotlib.lines.Line2D at 0x29a08d900a0>],\n",
       " 'means': []}"
      ]
     },
     "execution_count": 42,
     "metadata": {},
     "output_type": "execute_result"
    },
    {
     "data": {
      "image/png": "[encoded data removed]",
      "text/plain": [
       "<Figure size 432x288 with 1 Axes>"
      ]
     },
     "metadata": {
      "needs_background": "light"
     },
     "output_type": "display_data"
    }
   ],
   "source": [
    "plt.boxplot(df1['Likes avg.'])"
   ]
  },
  {
   "cell_type": "code",
   "execution_count": 43,
   "id": "89673097-1611-4679-b40b-2d42f725ac15",
   "metadata": {},
   "outputs": [
    {
     "data": {
      "text/plain": [
       "{'whiskers': [<matplotlib.lines.Line2D at 0x29a08ddf5b0>,\n",
       "  <matplotlib.lines.Line2D at 0x29a08ddf880>],\n",
       " 'caps': [<matplotlib.lines.Line2D at 0x29a08ddfb50>,\n",
       "  <matplotlib.lines.Line2D at 0x29a08ddfe20>],\n",
       " 'boxes': [<matplotlib.lines.Line2D at 0x29a08ddf340>],\n",
       " 'medians': [<matplotlib.lines.Line2D at 0x29a08dec130>],\n",
       " 'fliers': [<matplotlib.lines.Line2D at 0x29a08dec400>],\n",
       " 'means': []}"
      ]
     },
     "execution_count": 43,
     "metadata": {},
     "output_type": "execute_result"
    },
    {
     "data": {
      "image/png": "[encoded data removed]",
      "text/plain": [
       "<Figure size 432x288 with 1 Axes>"
      ]
     },
     "metadata": {
      "needs_background": "light"
     },
     "output_type": "display_data"
    }
   ],
   "source": [
    "plt.boxplot(df1['Comments avg.'])"
   ]
  },
  {
   "cell_type": "code",
   "execution_count": 44,
   "id": "09b5cf19-a608-4085-8e0c-3cddd4f0bc60",
   "metadata": {},
   "outputs": [
    {
     "data": {
      "text/plain": [
       "{'whiskers': [<matplotlib.lines.Line2D at 0x29a08e494c0>,\n",
       "  <matplotlib.lines.Line2D at 0x29a08e49790>],\n",
       " 'caps': [<matplotlib.lines.Line2D at 0x29a08e49a60>,\n",
       "  <matplotlib.lines.Line2D at 0x29a08e49d30>],\n",
       " 'boxes': [<matplotlib.lines.Line2D at 0x29a08e491c0>],\n",
       " 'medians': [<matplotlib.lines.Line2D at 0x29a08e56040>],\n",
       " 'fliers': [<matplotlib.lines.Line2D at 0x29a08e56310>],\n",
       " 'means': []}"
      ]
     },
     "execution_count": 44,
     "metadata": {},
     "output_type": "execute_result"
    },
    {
     "data": {
      "image/png": "[encoded data removed]",
      "text/plain": [
       "<Figure size 432x288 with 1 Axes>"
      ]
     },
     "metadata": {
      "needs_background": "light"
     },
     "output_type": "display_data"
    }
   ],
   "source": [
    "plt.boxplot(df1['Shares avg.'])"
   ]
  },
  {
   "cell_type": "markdown",
   "id": "9600c0b7-7aa1-4f88-968e-404f5d306a5a",
   "metadata": {},
   "source": [
    "#### Pie Chart"
   ]
  },
  {
   "cell_type": "code",
   "execution_count": 45,
   "id": "f2a9a3d9-b2d5-4f2c-b934-37e3e758aaf4",
   "metadata": {},
   "outputs": [
    {
     "data": {
      "text/plain": [
       "([<matplotlib.patches.Wedge at 0x29a08eac070>,\n",
       "  <matplotlib.patches.Wedge at 0x29a08eac790>,\n",
       "  <matplotlib.patches.Wedge at 0x29a08eaceb0>,\n",
       "  <matplotlib.patches.Wedge at 0x29a09e89610>,\n",
       "  <matplotlib.patches.Wedge at 0x29a09e89d60>,\n",
       "  <matplotlib.patches.Wedge at 0x29a09e964c0>,\n",
       "  <matplotlib.patches.Wedge at 0x29a09e96be0>,\n",
       "  <matplotlib.patches.Wedge at 0x29a09ea4340>,\n",
       "  <matplotlib.patches.Wedge at 0x29a09ea4a60>],\n",
       " [Text(0.905942345165159, 0.6239138299770666, 'khaby.lame'),\n",
       "  Text(-0.2468781305809481, 1.0719380526135158, 'charlidamelio'),\n",
       "  Text(-1.019887453168017, 0.4121038496185832, 'bellapoarch'),\n",
       "  Text(-1.0355579475276704, -0.3709713429798573, 'addisonre'),\n",
       "  Text(-0.6180415740436799, -0.9099585774932895, 'kimberly.loaiza'),\n",
       "  Text(-0.07464227645294808, -1.0974645919417727, 'cznburak'),\n",
       "  Text(0.45257668484468067, -1.0025838340682531, 'domelipa'),\n",
       "  Text(0.8554013215882352, -0.6915841084243485, 'dixiedamelio'),\n",
       "  Text(1.0725336776521526, -0.24427752721433188, 'therock')],\n",
       " [Text(0.49415037009008667, 0.34031663453294536, '19.2%'),\n",
       "  Text(-0.13466079849869894, 0.5846934832437358, '18.8%'),\n",
       "  Text(-0.5563022471825547, 0.22478391797377265, '11.8%'),\n",
       "  Text(-0.5648497895605474, -0.20234800526174032, '11.4%'),\n",
       "  Text(-0.3371135858420072, -0.49634104226906695, '8.6%'),\n",
       "  Text(-0.04071396897433531, -0.5986170501500578, '8.2%'),\n",
       "  Text(0.24686000991528034, -0.5468639094917744, '7.5%'),\n",
       "  Text(0.46658253904812824, -0.37722769550419005, '7.4%'),\n",
       "  Text(0.5850183696284468, -0.13324228757145373, '7.1%')])"
      ]
     },
     "execution_count": 45,
     "metadata": {},
     "output_type": "execute_result"
    },
    {
     "data": {
      "image/png": "[encoded data removed]",
      "text/plain": [
       "<Figure size 432x432 with 1 Axes>"
      ]
     },
     "metadata": {},
     "output_type": "display_data"
    }
   ],
   "source": [
    "plt.figure(figsize=(6,6))\n",
    "plt.pie(df1[\"Subscribers\"],autopct='%1.1f%%', labels = df1[\"Tiktoker name\"])"
   ]
  },
  {
   "cell_type": "code",
   "execution_count": 46,
   "id": "4fa9e2ed-b109-4c38-bac0-5cf8b5c02545",
   "metadata": {},
   "outputs": [
    {
     "data": {
      "text/plain": [
       "([<matplotlib.patches.Wedge at 0x29a09ef1700>,\n",
       "  <matplotlib.patches.Wedge at 0x29a09ef1e50>,\n",
       "  <matplotlib.patches.Wedge at 0x29a09eff5b0>,\n",
       "  <matplotlib.patches.Wedge at 0x29a09effcd0>,\n",
       "  <matplotlib.patches.Wedge at 0x29a09f0e430>,\n",
       "  <matplotlib.patches.Wedge at 0x29a09f0eb50>,\n",
       "  <matplotlib.patches.Wedge at 0x29a09f1a2b0>,\n",
       "  <matplotlib.patches.Wedge at 0x29a09f1a9d0>,\n",
       "  <matplotlib.patches.Wedge at 0x29a09f29130>],\n",
       " [Text(0.9451433085958647, 0.5627647165703109, 'khaby.lame'),\n",
       "  Text(0.027315447937037805, 1.0996607960202998, 'charlidamelio'),\n",
       "  Text(-0.6888855837475546, 0.8575760330750803, 'bellapoarch'),\n",
       "  Text(-1.0998091958686218, -0.02048737862235869, 'addisonre'),\n",
       "  Text(-0.6175007655664136, -0.910325658500788, 'kimberly.loaiza'),\n",
       "  Text(-0.19698863062962313, -1.0822178520994126, 'cznburak'),\n",
       "  Text(0.30990572269135536, -1.0554422973536493, 'domelipa'),\n",
       "  Text(0.6941966597369594, -0.853282484063776, 'dixiedamelio'),\n",
       "  Text(1.0102879767603803, -0.43510711786112793, 'therock')],\n",
       " [Text(0.5155327137795624, 0.306962572674715, '17.1%'),\n",
       "  Text(0.014899335238384255, 0.5998149796474361, '15.0%'),\n",
       "  Text(-0.37575577295321155, 0.4677687453136801, '7.3%'),\n",
       "  Text(-0.5998959250192482, -0.011174933794013828, '21.7%'),\n",
       "  Text(-0.3368185993998619, -0.49654126827315703, '8.7%'),\n",
       "  Text(-0.10744834397979443, -0.5903006465996795, '4.5%'),\n",
       "  Text(0.16903948510437564, -0.5756957985565359, '10.3%'),\n",
       "  Text(0.3786527234928869, -0.46542680948933235, '2.4%'),\n",
       "  Text(0.5510661691420256, -0.23733115519697884, '12.9%')])"
      ]
     },
     "execution_count": 46,
     "metadata": {},
     "output_type": "execute_result"
    },
    {
     "data": {
      "image/png": "[encoded data removed]",
      "text/plain": [
       "<Figure size 432x432 with 1 Axes>"
      ]
     },
     "metadata": {},
     "output_type": "display_data"
    }
   ],
   "source": [
    "plt.figure(figsize=(6,6))\n",
    "plt.pie(df1[\"Views avg.\"],autopct='%1.1f%%', labels = df1[\"Tiktoker name\"])"
   ]
  },
  {
   "cell_type": "code",
   "execution_count": 47,
   "id": "35551af5-dbac-41c5-8773-189ba66075f1",
   "metadata": {},
   "outputs": [
    {
     "data": {
      "text/plain": [
       "([<matplotlib.patches.Wedge at 0x29a09f67c10>,\n",
       "  <matplotlib.patches.Wedge at 0x29a09f753a0>,\n",
       "  <matplotlib.patches.Wedge at 0x29a09f75ac0>,\n",
       "  <matplotlib.patches.Wedge at 0x29a09f84220>,\n",
       "  <matplotlib.patches.Wedge at 0x29a09f84940>,\n",
       "  <matplotlib.patches.Wedge at 0x29a09f900a0>,\n",
       "  <matplotlib.patches.Wedge at 0x29a09f907c0>,\n",
       "  <matplotlib.patches.Wedge at 0x29a09f90ee0>,\n",
       "  <matplotlib.patches.Wedge at 0x29a09f9d640>],\n",
       " [Text(0.7963936414402893, 0.7587866418654694, 'khaby.lame'),\n",
       "  Text(-0.2925292208673315, 1.060389859881144, 'charlidamelio'),\n",
       "  Text(-0.7973723906182891, 0.7577580555029916, 'bellapoarch'),\n",
       "  Text(-1.0695826885629516, 0.25689077898291424, 'addisonre'),\n",
       "  Text(-0.9849248112686957, -0.48981947301768686, 'kimberly.loaiza'),\n",
       "  Text(-0.6538638674508563, -0.8845688457334506, 'cznburak'),\n",
       "  Text(-0.07090649316786257, -1.0977122889111863, 'domelipa'),\n",
       "  Text(0.5321124588823611, -0.9627337799735541, 'dixiedamelio'),\n",
       "  Text(0.9672076890423269, -0.5239363379814399, 'therock')],\n",
       " [Text(0.4343965316947032, 0.4138836228357105, '24.2%'),\n",
       "  Text(-0.1595613932003626, 0.5783944690260785, '10.1%'),\n",
       "  Text(-0.43493039488270313, 0.41332257572890446, '7.1%'),\n",
       "  Text(-0.5834087392161553, 0.14012224308158955, '9.6%'),\n",
       "  Text(-0.5372317152374703, -0.26717425800964734, '12.6%'),\n",
       "  Text(-0.356653018609558, -0.4824920976727912, '2.4%'),\n",
       "  Text(-0.038676269000652304, -0.5987521575879198, '15.8%'),\n",
       "  Text(0.29024315939037876, -0.5251275163492113, '2.3%'),\n",
       "  Text(0.5275678303867237, -0.2857834570807854, '15.8%')])"
      ]
     },
     "execution_count": 47,
     "metadata": {},
     "output_type": "execute_result"
    },
    {
     "data": {
      "image/png": "[encoded data removed]",
      "text/plain": [
       "<Figure size 432x432 with 1 Axes>"
      ]
     },
     "metadata": {},
     "output_type": "display_data"
    }
   ],
   "source": [
    "plt.figure(figsize=(6,6))\n",
    "plt.pie(df1[\"Likes avg.\"],autopct='%1.1f%%', labels = df1[\"Tiktoker name\"])"
   ]
  },
  {
   "cell_type": "code",
   "execution_count": 48,
   "id": "ac2de6b4-011c-4b91-a56d-3267223a888e",
   "metadata": {},
   "outputs": [
    {
     "data": {
      "text/plain": [
       "([<matplotlib.patches.Wedge at 0x29a09fe7190>,\n",
       "  <matplotlib.patches.Wedge at 0x29a09fe78b0>,\n",
       "  <matplotlib.patches.Wedge at 0x29a09fe7fd0>,\n",
       "  <matplotlib.patches.Wedge at 0x29a09ff5730>,\n",
       "  <matplotlib.patches.Wedge at 0x29a09ff5e50>,\n",
       "  <matplotlib.patches.Wedge at 0x29a0a0045b0>,\n",
       "  <matplotlib.patches.Wedge at 0x29a0a004cd0>,\n",
       "  <matplotlib.patches.Wedge at 0x29a0a012430>,\n",
       "  <matplotlib.patches.Wedge at 0x29a0a012b50>],\n",
       " [Text(0.9426821853245203, 0.5668776741694691, 'khaby.lame'),\n",
       "  Text(-0.27522831262755115, 1.065011444036256, 'charlidamelio'),\n",
       "  Text(-1.0120954834294509, 0.4308859854087927, 'bellapoarch'),\n",
       "  Text(-1.0989953347500603, -0.047002704152030256, 'addisonre'),\n",
       "  Text(-0.809016924188579, -0.7453130995604809, 'kimberly.loaiza'),\n",
       "  Text(-0.3391733509322475, -1.0464040510325783, 'cznburak'),\n",
       "  Text(0.10172468144845445, -1.0952863046638586, 'domelipa'),\n",
       "  Text(0.5122626547036964, -0.9734407904931464, 'dixiedamelio'),\n",
       "  Text(0.9603671597607535, -0.5363719963356248, 'therock')],\n",
       " [Text(0.5141902829042838, 0.30920600409243765, '17.2%'),\n",
       "  Text(-0.1501245341604824, 0.580915333110685, '23.6%'),\n",
       "  Text(-0.5520520818706095, 0.23502871931388689, '5.6%'),\n",
       "  Text(-0.5994520007727601, -0.025637838628380136, '8.6%'),\n",
       "  Text(-0.44128195864831576, -0.4065344179420804, '13.7%'),\n",
       "  Text(-0.18500364596304408, -0.5707658460177699, '2.6%'),\n",
       "  Text(0.05548618988097515, -0.5974288934530136, '10.3%'),\n",
       "  Text(0.27941599347474344, -0.5309677039053525, '2.2%'),\n",
       "  Text(0.5238366325967746, -0.29256654345579536, '16.2%')])"
      ]
     },
     "execution_count": 48,
     "metadata": {},
     "output_type": "execute_result"
    },
    {
     "data": {
      "image/png": "[encoded data removed]",
      "text/plain": [
       "<Figure size 432x432 with 1 Axes>"
      ]
     },
     "metadata": {},
     "output_type": "display_data"
    }
   ],
   "source": [
    "plt.figure(figsize=(6,6))\n",
    "plt.pie(df1[\"Comments avg.\"],autopct='%1.1f%%', labels = df1[\"Tiktoker name\"])"
   ]
  },
  {
   "cell_type": "code",
   "execution_count": 49,
   "id": "e65ba6c6-f234-41ce-b27d-ee1733a1de13",
   "metadata": {},
   "outputs": [
    {
     "data": {
      "text/plain": [
       "([<matplotlib.patches.Wedge at 0x29a0a05c640>,\n",
       "  <matplotlib.patches.Wedge at 0x29a0a05cd60>,\n",
       "  <matplotlib.patches.Wedge at 0x29a0a06a4c0>,\n",
       "  <matplotlib.patches.Wedge at 0x29a0a06abe0>,\n",
       "  <matplotlib.patches.Wedge at 0x29a0a077340>,\n",
       "  <matplotlib.patches.Wedge at 0x29a0a077a60>,\n",
       "  <matplotlib.patches.Wedge at 0x29a0a0861c0>,\n",
       "  <matplotlib.patches.Wedge at 0x29a0a0868e0>,\n",
       "  <matplotlib.patches.Wedge at 0x29a0a094040>],\n",
       " [Text(0.9938330376298969, 0.47148265431013686, 'khaby.lame'),\n",
       "  Text(0.479109532568618, 0.9901787999153893, 'charlidamelio'),\n",
       "  Text(0.17572239418987684, 1.0858736759771725, 'bellapoarch'),\n",
       "  Text(-1.0365758752090106, 0.36811744720221257, 'addisonre'),\n",
       "  Text(-0.3865826477206165, -1.0298319554574513, 'kimberly.loaiza'),\n",
       "  Text(-0.09927729211694122, -1.0955108485405007, 'cznburak'),\n",
       "  Text(0.1509099175809209, -1.0895990991074285, 'domelipa'),\n",
       "  Text(0.3641565291421076, -1.0379739988473573, 'dixiedamelio'),\n",
       "  Text(0.904191847303803, -0.6264480052401289, 'therock')],\n",
       " [Text(0.5420907477981255, 0.25717235689643825, '14.1%'),\n",
       "  Text(0.2613324723101553, 0.5400975272265759, '7.5%'),\n",
       "  Text(0.09584857864902371, 0.592294732351185, '1.8%'),\n",
       "  Text(-0.5654050228412785, 0.20079133483757047, '42.5%'),\n",
       "  Text(-0.21086326239306352, -0.5617265211586097, '7.0%'),\n",
       "  Text(-0.0541512502456043, -0.5975513719311821, '1.6%'),\n",
       "  Text(0.08231450049868412, -0.5943267813313245, '5.7%'),\n",
       "  Text(0.19863083407751322, -0.566167635734922, '0.7%'),\n",
       "  Text(0.49319555307480156, -0.3416989119491612, '19.3%')])"
      ]
     },
     "execution_count": 49,
     "metadata": {},
     "output_type": "execute_result"
    },
    {
     "data": {
      "image/png": "[encoded data removed]",
      "text/plain": [
       "<Figure size 432x432 with 1 Axes>"
      ]
     },
     "metadata": {},
     "output_type": "display_data"
    }
   ],
   "source": [
    "plt.figure(figsize=(6,6))\n",
    "plt.pie(df1[\"Shares avg.\"],autopct='%1.1f%%', labels = df1[\"Tiktoker name\"])"
   ]
  },
  {
   "cell_type": "markdown",
   "id": "68f481aa-3487-414e-b6c2-9d50c0d3db3f",
   "metadata": {},
   "source": [
    "#### Scatter Plot"
   ]
  },
  {
   "cell_type": "code",
   "execution_count": 50,
   "id": "e468184a-efb9-459c-8518-be8011a04506",
   "metadata": {},
   "outputs": [
    {
     "data": {
      "text/plain": [
       "<matplotlib.legend.Legend at 0x29a0a0df910>"
      ]
     },
     "execution_count": 50,
     "metadata": {},
     "output_type": "execute_result"
    },
    {
     "data": {
      "image/png": "[encoded data removed]",
      "text/plain": [
       "<Figure size 432x288 with 1 Axes>"
      ]
     },
     "metadata": {
      "needs_background": "light"
     },
     "output_type": "display_data"
    }
   ],
   "source": [
    "plt.scatter(x=df1['Subscribers'], y=df1['Tiktoker name'], label = 'Subscribers')\n",
    "plt.scatter(x=df1['Views avg.'], y=df1['Tiktoker name'], label = 'Views avg.')\n",
    "plt.legend(title = \"Scatter plot\",\n",
    "         fontsize = 16,\n",
    "         title_fontsize = 20,\n",
    "         bbox_to_anchor = (1.02, 0.7))"
   ]
  },
  {
   "cell_type": "code",
   "execution_count": 51,
   "id": "a98030ea-fc75-4857-8e20-043822ceb3d9",
   "metadata": {},
   "outputs": [
    {
     "data": {
      "text/plain": [
       "<matplotlib.legend.Legend at 0x29a0a158fa0>"
      ]
     },
     "execution_count": 51,
     "metadata": {},
     "output_type": "execute_result"
    },
    {
     "data": {
      "image/png": "[encoded data removed]",
      "text/plain": [
       "<Figure size 432x288 with 1 Axes>"
      ]
     },
     "metadata": {
      "needs_background": "light"
     },
     "output_type": "display_data"
    }
   ],
   "source": [
    "plt.scatter(x=df1['Comments avg.'], y=df1['Tiktoker name'], label = 'Comments avg.')\n",
    "plt.scatter(x=df1['Shares avg.'], y=df1['Tiktoker name'], label = 'Shares avg.')\n",
    "plt.legend(title = \"Scatter plot\",\n",
    "         fontsize = 16,\n",
    "         title_fontsize = 20,\n",
    "         bbox_to_anchor = (1.02, 0.7))"
   ]
  },
  {
   "cell_type": "code",
   "execution_count": 52,
   "id": "e1a2d842-278d-49ac-87bd-e826d088b324",
   "metadata": {},
   "outputs": [
    {
     "data": {
      "text/plain": [
       "<seaborn.axisgrid.PairGrid at 0x29a0a18a0d0>"
      ]
     },
     "execution_count": 52,
     "metadata": {},
     "output_type": "execute_result"
    },
    {
     "data": {
      "image/png": "[encoded data removed]",
      "text/plain": [
       "<Figure size 900x900 with 25 Axes>"
      ]
     },
     "metadata": {
      "needs_background": "light"
     },
     "output_type": "display_data"
    }
   ],
   "source": [
    "g = sns.PairGrid(df1)\n",
    "g.map(plt.scatter)"
   ]
  },
  {
   "cell_type": "markdown",
   "id": "2844dd53-152f-4e36-ad07-993881c168d4",
   "metadata": {},
   "source": [
    "#### Distplot"
   ]
  },
  {
   "cell_type": "code",
   "execution_count": 53,
   "id": "633ca769-e200-4ff2-84d1-14522919425a",
   "metadata": {},
   "outputs": [
    {
     "name": "stderr",
     "output_type": "stream",
     "text": [
      "C:\\Users\\angela\\anaconda3\\lib\\site-packages\\seaborn\\distributions.py:2619: FutureWarning: `distplot` is a deprecated function and will be removed in a future version. Please adapt your code to use either `displot` (a figure-level function with similar flexibility) or `histplot` (an axes-level function for histograms).\n",
      "  warnings.warn(msg, FutureWarning)\n"
     ]
    },
    {
     "data": {
      "text/plain": [
       "<AxesSubplot:xlabel='Subscribers', ylabel='Density'>"
      ]
     },
     "execution_count": 53,
     "metadata": {},
     "output_type": "execute_result"
    },
    {
     "data": {
      "image/png": "[encoded data removed]",
      "text/plain": [
       "<Figure size 432x288 with 1 Axes>"
      ]
     },
     "metadata": {
      "needs_background": "light"
     },
     "output_type": "display_data"
    }
   ],
   "source": [
    "sns.distplot(df['Subscribers'], bins=50)"
   ]
  },
  {
   "cell_type": "code",
   "execution_count": 54,
   "id": "0b5f083a-33f6-46ea-95ad-c9681a8c176a",
   "metadata": {},
   "outputs": [
    {
     "name": "stderr",
     "output_type": "stream",
     "text": [
      "C:\\Users\\angela\\anaconda3\\lib\\site-packages\\seaborn\\distributions.py:2619: FutureWarning: `distplot` is a deprecated function and will be removed in a future version. Please adapt your code to use either `displot` (a figure-level function with similar flexibility) or `histplot` (an axes-level function for histograms).\n",
      "  warnings.warn(msg, FutureWarning)\n"
     ]
    },
    {
     "data": {
      "text/plain": [
       "<AxesSubplot:xlabel='Views avg.', ylabel='Density'>"
      ]
     },
     "execution_count": 54,
     "metadata": {},
     "output_type": "execute_result"
    },
    {
     "data": {
      "image/png": "[encoded data removed]",
      "text/plain": [
       "<Figure size 432x288 with 1 Axes>"
      ]
     },
     "metadata": {
      "needs_background": "light"
     },
     "output_type": "display_data"
    }
   ],
   "source": [
    "sns.distplot(df['Views avg.'],bins = 50)"
   ]
  },
  {
   "cell_type": "code",
   "execution_count": 55,
   "id": "3ebc9142-af12-4814-9e09-1ae4714839dc",
   "metadata": {},
   "outputs": [
    {
     "name": "stderr",
     "output_type": "stream",
     "text": [
      "C:\\Users\\angela\\anaconda3\\lib\\site-packages\\seaborn\\distributions.py:2619: FutureWarning: `distplot` is a deprecated function and will be removed in a future version. Please adapt your code to use either `displot` (a figure-level function with similar flexibility) or `histplot` (an axes-level function for histograms).\n",
      "  warnings.warn(msg, FutureWarning)\n"
     ]
    },
    {
     "data": {
      "text/plain": [
       "<AxesSubplot:xlabel='Likes avg.', ylabel='Density'>"
      ]
     },
     "execution_count": 55,
     "metadata": {},
     "output_type": "execute_result"
    },
    {
     "data": {
      "image/png": "[encoded data removed]",
      "text/plain": [
       "<Figure size 432x288 with 1 Axes>"
      ]
     },
     "metadata": {
      "needs_background": "light"
     },
     "output_type": "display_data"
    }
   ],
   "source": [
    "sns.distplot(df['Likes avg.'],bins = 50)"
   ]
  },
  {
   "cell_type": "code",
   "execution_count": 56,
   "id": "f5675424-4cf6-41ce-80de-d6dc74493ad3",
   "metadata": {},
   "outputs": [
    {
     "name": "stderr",
     "output_type": "stream",
     "text": [
      "C:\\Users\\angela\\anaconda3\\lib\\site-packages\\seaborn\\distributions.py:2619: FutureWarning: `distplot` is a deprecated function and will be removed in a future version. Please adapt your code to use either `displot` (a figure-level function with similar flexibility) or `histplot` (an axes-level function for histograms).\n",
      "  warnings.warn(msg, FutureWarning)\n"
     ]
    },
    {
     "data": {
      "text/plain": [
       "<AxesSubplot:xlabel='Shares avg.', ylabel='Density'>"
      ]
     },
     "execution_count": 56,
     "metadata": {},
     "output_type": "execute_result"
    },
    {
     "data": {
      "image/png": "[encoded data removed]",
      "text/plain": [
       "<Figure size 432x288 with 1 Axes>"
      ]
     },
     "metadata": {
      "needs_background": "light"
     },
     "output_type": "display_data"
    }
   ],
   "source": [
    "sns.distplot(df['Shares avg.'],bins = 50)"
   ]
  },
  {
   "cell_type": "code",
   "execution_count": 57,
   "id": "6fd06aed-843b-452c-847b-3b37b109943c",
   "metadata": {},
   "outputs": [
    {
     "name": "stderr",
     "output_type": "stream",
     "text": [
      "C:\\Users\\angela\\anaconda3\\lib\\site-packages\\seaborn\\distributions.py:2619: FutureWarning: `distplot` is a deprecated function and will be removed in a future version. Please adapt your code to use either `displot` (a figure-level function with similar flexibility) or `histplot` (an axes-level function for histograms).\n",
      "  warnings.warn(msg, FutureWarning)\n"
     ]
    },
    {
     "data": {
      "text/plain": [
       "<AxesSubplot:xlabel='Comments avg.', ylabel='Density'>"
      ]
     },
     "execution_count": 57,
     "metadata": {},
     "output_type": "execute_result"
    },
    {
     "data": {
      "image/png": "[encoded data removed]",
      "text/plain": [
       "<Figure size 432x288 with 1 Axes>"
      ]
     },
     "metadata": {
      "needs_background": "light"
     },
     "output_type": "display_data"
    }
   ],
   "source": [
    "sns.distplot(df['Comments avg.'],bins = 50)"
   ]
  },
  {
   "cell_type": "markdown",
   "id": "c1ee4df0-e03c-4f1c-9d5e-0482661a4071",
   "metadata": {},
   "source": [
    "#### Heatmap"
   ]
  },
  {
   "cell_type": "code",
   "execution_count": 58,
   "id": "9c9ddf66-1c31-4c6d-b816-c17bea46969c",
   "metadata": {},
   "outputs": [
    {
     "data": {
      "text/plain": [
       "<AxesSubplot:>"
      ]
     },
     "execution_count": 58,
     "metadata": {},
     "output_type": "execute_result"
    },
    {
     "data": {
      "image/png": "[encoded data removed]",
      "text/plain": [
       "<Figure size 720x576 with 2 Axes>"
      ]
     },
     "metadata": {
      "needs_background": "light"
     },
     "output_type": "display_data"
    }
   ],
   "source": [
    "plt.figure(figsize=(10,8))\n",
    "sns.heatmap(df1.corr(),annot = True)"
   ]
  },
  {
   "cell_type": "markdown",
   "id": "defccc37-5d54-4931-a6eb-98c193a20aa6",
   "metadata": {},
   "source": [
    "## Covarian dan Correlation"
   ]
  },
  {
   "cell_type": "code",
   "execution_count": 59,
   "id": "f9c4fe17-2f10-4485-8226-5f9d87855a41",
   "metadata": {},
   "outputs": [
    {
     "data": {
      "text/html": [
       "<div>\n",
       "<style scoped>\n",
       "    .dataframe tbody tr th:only-of-type {\n",
       "        vertical-align: middle;\n",
       "    }\n",
       "\n",
       "    .dataframe tbody tr th {\n",
       "        vertical-align: top;\n",
       "    }\n",
       "\n",
       "    .dataframe thead th {\n",
       "        text-align: right;\n",
       "    }\n",
       "</style>\n",
       "<table border=\"1\" class=\"dataframe\">\n",
       "  <thead>\n",
       "    <tr style=\"text-align: right;\">\n",
       "      <th></th>\n",
       "      <th>Subscribers</th>\n",
       "      <th>Views avg.</th>\n",
       "      <th>Likes avg.</th>\n",
       "      <th>Comments avg.</th>\n",
       "      <th>Shares avg.</th>\n",
       "    </tr>\n",
       "  </thead>\n",
       "  <tbody>\n",
       "    <tr>\n",
       "      <th>Subscribers</th>\n",
       "      <td>1.380190e+15</td>\n",
       "      <td>1.304547e+14</td>\n",
       "      <td>1.051421e+13</td>\n",
       "      <td>1.504512e+11</td>\n",
       "      <td>3.810474e+10</td>\n",
       "    </tr>\n",
       "    <tr>\n",
       "      <th>Views avg.</th>\n",
       "      <td>1.304547e+14</td>\n",
       "      <td>3.941028e+13</td>\n",
       "      <td>2.498178e+12</td>\n",
       "      <td>2.430125e+10</td>\n",
       "      <td>4.335146e+10</td>\n",
       "    </tr>\n",
       "    <tr>\n",
       "      <th>Likes avg.</th>\n",
       "      <td>1.051421e+13</td>\n",
       "      <td>2.498178e+12</td>\n",
       "      <td>4.400720e+11</td>\n",
       "      <td>2.833145e+09</td>\n",
       "      <td>1.552705e+09</td>\n",
       "    </tr>\n",
       "    <tr>\n",
       "      <th>Comments avg.</th>\n",
       "      <td>1.504512e+11</td>\n",
       "      <td>2.430125e+10</td>\n",
       "      <td>2.833145e+09</td>\n",
       "      <td>4.046250e+07</td>\n",
       "      <td>1.060692e+07</td>\n",
       "    </tr>\n",
       "    <tr>\n",
       "      <th>Shares avg.</th>\n",
       "      <td>3.810474e+10</td>\n",
       "      <td>4.335146e+10</td>\n",
       "      <td>1.552705e+09</td>\n",
       "      <td>1.060692e+07</td>\n",
       "      <td>6.687138e+07</td>\n",
       "    </tr>\n",
       "  </tbody>\n",
       "</table>\n",
       "</div>"
      ],
      "text/plain": [
       "                Subscribers    Views avg.    Likes avg.  Comments avg.  \\\n",
       "Subscribers    1.380190e+15  1.304547e+14  1.051421e+13   1.504512e+11   \n",
       "Views avg.     1.304547e+14  3.941028e+13  2.498178e+12   2.430125e+10   \n",
       "Likes avg.     1.051421e+13  2.498178e+12  4.400720e+11   2.833145e+09   \n",
       "Comments avg.  1.504512e+11  2.430125e+10  2.833145e+09   4.046250e+07   \n",
       "Shares avg.    3.810474e+10  4.335146e+10  1.552705e+09   1.060692e+07   \n",
       "\n",
       "                Shares avg.  \n",
       "Subscribers    3.810474e+10  \n",
       "Views avg.     4.335146e+10  \n",
       "Likes avg.     1.552705e+09  \n",
       "Comments avg.  1.060692e+07  \n",
       "Shares avg.    6.687138e+07  "
      ]
     },
     "execution_count": 59,
     "metadata": {},
     "output_type": "execute_result"
    }
   ],
   "source": [
    "df1.cov()"
   ]
  },
  {
   "cell_type": "code",
   "execution_count": 60,
   "id": "88ef317b-88d3-4726-8a11-cafe2d587e10",
   "metadata": {},
   "outputs": [
    {
     "data": {
      "text/html": [
       "<div>\n",
       "<style scoped>\n",
       "    .dataframe tbody tr th:only-of-type {\n",
       "        vertical-align: middle;\n",
       "    }\n",
       "\n",
       "    .dataframe tbody tr th {\n",
       "        vertical-align: top;\n",
       "    }\n",
       "\n",
       "    .dataframe thead th {\n",
       "        text-align: right;\n",
       "    }\n",
       "</style>\n",
       "<table border=\"1\" class=\"dataframe\">\n",
       "  <thead>\n",
       "    <tr style=\"text-align: right;\">\n",
       "      <th></th>\n",
       "      <th>Subscribers</th>\n",
       "      <th>Views avg.</th>\n",
       "      <th>Likes avg.</th>\n",
       "      <th>Comments avg.</th>\n",
       "      <th>Shares avg.</th>\n",
       "    </tr>\n",
       "  </thead>\n",
       "  <tbody>\n",
       "    <tr>\n",
       "      <th>Subscribers</th>\n",
       "      <td>1.000000</td>\n",
       "      <td>0.559352</td>\n",
       "      <td>0.426624</td>\n",
       "      <td>0.636649</td>\n",
       "      <td>0.125427</td>\n",
       "    </tr>\n",
       "    <tr>\n",
       "      <th>Views avg.</th>\n",
       "      <td>0.559352</td>\n",
       "      <td>1.000000</td>\n",
       "      <td>0.599869</td>\n",
       "      <td>0.608552</td>\n",
       "      <td>0.844460</td>\n",
       "    </tr>\n",
       "    <tr>\n",
       "      <th>Likes avg.</th>\n",
       "      <td>0.426624</td>\n",
       "      <td>0.599869</td>\n",
       "      <td>1.000000</td>\n",
       "      <td>0.671399</td>\n",
       "      <td>0.286225</td>\n",
       "    </tr>\n",
       "    <tr>\n",
       "      <th>Comments avg.</th>\n",
       "      <td>0.636649</td>\n",
       "      <td>0.608552</td>\n",
       "      <td>0.671399</td>\n",
       "      <td>1.000000</td>\n",
       "      <td>0.203912</td>\n",
       "    </tr>\n",
       "    <tr>\n",
       "      <th>Shares avg.</th>\n",
       "      <td>0.125427</td>\n",
       "      <td>0.844460</td>\n",
       "      <td>0.286225</td>\n",
       "      <td>0.203912</td>\n",
       "      <td>1.000000</td>\n",
       "    </tr>\n",
       "  </tbody>\n",
       "</table>\n",
       "</div>"
      ],
      "text/plain": [
       "               Subscribers  Views avg.  Likes avg.  Comments avg.  Shares avg.\n",
       "Subscribers       1.000000    0.559352    0.426624       0.636649     0.125427\n",
       "Views avg.        0.559352    1.000000    0.599869       0.608552     0.844460\n",
       "Likes avg.        0.426624    0.599869    1.000000       0.671399     0.286225\n",
       "Comments avg.     0.636649    0.608552    0.671399       1.000000     0.203912\n",
       "Shares avg.       0.125427    0.844460    0.286225       0.203912     1.000000"
      ]
     },
     "execution_count": 60,
     "metadata": {},
     "output_type": "execute_result"
    }
   ],
   "source": [
    "df1.corr()"
   ]
  },
  {
   "cell_type": "markdown",
   "id": "7275d402-4f09-45e0-aa5c-378654ce1707",
   "metadata": {},
   "source": [
    "## Uji T"
   ]
  },
  {
   "cell_type": "code",
   "execution_count": 104,
   "id": "db9d8c0b-6b6a-4073-94eb-201c86e08fb7",
   "metadata": {},
   "outputs": [
    {
     "data": {
      "text/html": [
       "<div>\n",
       "<style scoped>\n",
       "    .dataframe tbody tr th:only-of-type {\n",
       "        vertical-align: middle;\n",
       "    }\n",
       "\n",
       "    .dataframe tbody tr th {\n",
       "        vertical-align: top;\n",
       "    }\n",
       "\n",
       "    .dataframe thead th {\n",
       "        text-align: right;\n",
       "    }\n",
       "</style>\n",
       "<table border=\"1\" class=\"dataframe\">\n",
       "  <thead>\n",
       "    <tr style=\"text-align: right;\">\n",
       "      <th></th>\n",
       "      <th>Subscribers</th>\n",
       "      <th>Views avg.</th>\n",
       "      <th>Likes avg.</th>\n",
       "      <th>Comments avg.</th>\n",
       "      <th>Shares avg.</th>\n",
       "    </tr>\n",
       "  </thead>\n",
       "  <tbody>\n",
       "    <tr>\n",
       "      <th>2</th>\n",
       "      <td>2100000.0</td>\n",
       "      <td>17900000.0</td>\n",
       "      <td>845800.0</td>\n",
       "      <td>53900.0</td>\n",
       "      <td>6300.0</td>\n",
       "    </tr>\n",
       "    <tr>\n",
       "      <th>0</th>\n",
       "      <td>13800000.0</td>\n",
       "      <td>6400000.0</td>\n",
       "      <td>2300000.0</td>\n",
       "      <td>50200.0</td>\n",
       "      <td>34200.0</td>\n",
       "    </tr>\n",
       "    <tr>\n",
       "      <th>26</th>\n",
       "      <td>1300000.0</td>\n",
       "      <td>4900000.0</td>\n",
       "      <td>685900.0</td>\n",
       "      <td>30100.0</td>\n",
       "      <td>3300.0</td>\n",
       "    </tr>\n",
       "    <tr>\n",
       "      <th>21</th>\n",
       "      <td>18100000.0</td>\n",
       "      <td>3800000.0</td>\n",
       "      <td>1100000.0</td>\n",
       "      <td>27400.0</td>\n",
       "      <td>9500.0</td>\n",
       "    </tr>\n",
       "    <tr>\n",
       "      <th>113</th>\n",
       "      <td>733400.0</td>\n",
       "      <td>1600000.0</td>\n",
       "      <td>350900.0</td>\n",
       "      <td>27000.0</td>\n",
       "      <td>2500.0</td>\n",
       "    </tr>\n",
       "    <tr>\n",
       "      <th>...</th>\n",
       "      <td>...</td>\n",
       "      <td>...</td>\n",
       "      <td>...</td>\n",
       "      <td>...</td>\n",
       "      <td>...</td>\n",
       "    </tr>\n",
       "    <tr>\n",
       "      <th>633</th>\n",
       "      <td>310600.0</td>\n",
       "      <td>1900000.0</td>\n",
       "      <td>48800.0</td>\n",
       "      <td>208.0</td>\n",
       "      <td>12900.0</td>\n",
       "    </tr>\n",
       "    <tr>\n",
       "      <th>561</th>\n",
       "      <td>720300.0</td>\n",
       "      <td>1600000.0</td>\n",
       "      <td>143500.0</td>\n",
       "      <td>188.0</td>\n",
       "      <td>6300.0</td>\n",
       "    </tr>\n",
       "    <tr>\n",
       "      <th>749</th>\n",
       "      <td>1400000.0</td>\n",
       "      <td>1300000.0</td>\n",
       "      <td>94400.0</td>\n",
       "      <td>96.0</td>\n",
       "      <td>7700.0</td>\n",
       "    </tr>\n",
       "    <tr>\n",
       "      <th>78</th>\n",
       "      <td>7300000.0</td>\n",
       "      <td>7000000.0</td>\n",
       "      <td>1300000.0</td>\n",
       "      <td>26.0</td>\n",
       "      <td>2900.0</td>\n",
       "    </tr>\n",
       "    <tr>\n",
       "      <th>470</th>\n",
       "      <td>643300.0</td>\n",
       "      <td>2100000.0</td>\n",
       "      <td>77000.0</td>\n",
       "      <td>0.0</td>\n",
       "      <td>12600.0</td>\n",
       "    </tr>\n",
       "  </tbody>\n",
       "</table>\n",
       "<p>999 rows × 5 columns</p>\n",
       "</div>"
      ],
      "text/plain": [
       "     Subscribers  Views avg.  Likes avg.  Comments avg.  Shares avg.\n",
       "2      2100000.0  17900000.0    845800.0        53900.0       6300.0\n",
       "0     13800000.0   6400000.0   2300000.0        50200.0      34200.0\n",
       "26     1300000.0   4900000.0    685900.0        30100.0       3300.0\n",
       "21    18100000.0   3800000.0   1100000.0        27400.0       9500.0\n",
       "113     733400.0   1600000.0    350900.0        27000.0       2500.0\n",
       "..           ...         ...         ...            ...          ...\n",
       "633     310600.0   1900000.0     48800.0          208.0      12900.0\n",
       "561     720300.0   1600000.0    143500.0          188.0       6300.0\n",
       "749    1400000.0   1300000.0     94400.0           96.0       7700.0\n",
       "78     7300000.0   7000000.0   1300000.0           26.0       2900.0\n",
       "470     643300.0   2100000.0     77000.0            0.0      12600.0\n",
       "\n",
       "[999 rows x 5 columns]"
      ]
     },
     "execution_count": 104,
     "metadata": {},
     "output_type": "execute_result"
    }
   ],
   "source": [
    "subs = df.sort_values(by = [\"Comments avg.\"], ascending = False)\n",
    "subs"
   ]
  },
  {
   "cell_type": "code",
   "execution_count": 105,
   "id": "70814642-e932-41af-a480-72cef0f4ec2a",
   "metadata": {},
   "outputs": [],
   "source": [
    "df2 = subs.iloc[0:25]\n",
    "df3 = df2.iloc[0:10]\n",
    "df4 = df2.iloc[11:21]"
   ]
  },
  {
   "cell_type": "code",
   "execution_count": 106,
   "id": "3d0ca6c1-6384-443f-a2de-ef39765ecf3a",
   "metadata": {},
   "outputs": [
    {
     "data": {
      "text/plain": [
       "29560.0"
      ]
     },
     "execution_count": 106,
     "metadata": {},
     "output_type": "execute_result"
    }
   ],
   "source": [
    "df3['Comments avg.'].mean()"
   ]
  },
  {
   "cell_type": "code",
   "execution_count": 118,
   "id": "0f95701c-263e-4db9-bc32-00809945b946",
   "metadata": {},
   "outputs": [
    {
     "data": {
      "text/plain": [
       "153482666.66666666"
      ]
     },
     "execution_count": 118,
     "metadata": {},
     "output_type": "execute_result"
    }
   ],
   "source": [
    "df3['Comments avg.'].var()"
   ]
  },
  {
   "cell_type": "code",
   "execution_count": 107,
   "id": "a9fb0fd4-7e4d-4021-a04d-c6b005ec5018",
   "metadata": {},
   "outputs": [
    {
     "data": {
      "text/plain": [
       "14620.0"
      ]
     },
     "execution_count": 107,
     "metadata": {},
     "output_type": "execute_result"
    }
   ],
   "source": [
    "df4['Comments avg.'].mean()"
   ]
  },
  {
   "cell_type": "code",
   "execution_count": 119,
   "id": "e87538ae-acfc-4e58-93ef-de376d70ec46",
   "metadata": {},
   "outputs": [
    {
     "data": {
      "text/plain": [
       "2066222.2222222222"
      ]
     },
     "execution_count": 119,
     "metadata": {},
     "output_type": "execute_result"
    }
   ],
   "source": [
    "df4['Comments avg.'].var()"
   ]
  },
  {
   "cell_type": "code",
   "execution_count": 108,
   "id": "f2457faa-b376-4f5b-9bc7-a69bd6b65c8a",
   "metadata": {},
   "outputs": [
    {
     "data": {
      "text/plain": [
       "20184.0"
      ]
     },
     "execution_count": 108,
     "metadata": {},
     "output_type": "execute_result"
    }
   ],
   "source": [
    "df2['Comments avg.'].mean()"
   ]
  },
  {
   "cell_type": "markdown",
   "id": "2f616cda-0ad3-4a95-a243-7aa9c92558c8",
   "metadata": {},
   "source": [
    "### Hipotesis 1"
   ]
  },
  {
   "cell_type": "code",
   "execution_count": 117,
   "id": "997016ac-8265-4721-93d7-b33c96b88708",
   "metadata": {},
   "outputs": [
    {
     "name": "stdout",
     "output_type": "stream",
     "text": [
      "Pvalue: 0.0013467431451231312\n",
      "Tvalue: 3.7880625433317237\n",
      "Tolak H0\n"
     ]
    }
   ],
   "source": [
    "# H0 = rata df3 <= rata df4\n",
    "# H1 = rata df3 > rata df4\n",
    "\n",
    "tval, pval = stats.ttest_ind(df3['Comments avg.'],df4['Comments avg.'])\n",
    "\n",
    "print(\"Pvalue:\", str(pval))\n",
    "print(\"Tvalue:\", str(tval))\n",
    "\n",
    "if pval/2 <0.05:\n",
    "    print(\"Tolak H0\")\n",
    "else:\n",
    "    print(\"gagal tolak H0\")"
   ]
  },
  {
   "cell_type": "markdown",
   "id": "8de55e0e-c46a-4f44-8718-fb0002789a9a",
   "metadata": {},
   "source": [
    "### Hipotesis 2"
   ]
  },
  {
   "cell_type": "code",
   "execution_count": 113,
   "id": "856c9acb-7777-454f-91f4-307a2f5fa743",
   "metadata": {},
   "outputs": [
    {
     "name": "stdout",
     "output_type": "stream",
     "text": [
      "Pvalue: 1.1712852909795402e-13\n",
      "Tvalue: 74.2817810281781\n",
      "Tolak H0\n"
     ]
    }
   ],
   "source": [
    "# Uji beda varians\n",
    "group1 = df3['Comments avg.']\n",
    "group2 = df4['Comments avg.']\n",
    "  \n",
    "# converting the list to array\n",
    "x = np.array(group1)\n",
    "y = np.array(group2)\n",
    "  \n",
    "def t_test(group1, group2):\n",
    "    t = np.var(group1, ddof=1)/np.var(group2, ddof=1)\n",
    "    nun = x.size-1\n",
    "    dun = y.size-1\n",
    "    p_value = 1-scipy.stats.t.cdf(t, nun, dun)\n",
    "    return t, p_value\n",
    "  \n",
    "# perform T-test\n",
    "t,pvalue=t_test(x, y)\n",
    "\n",
    "print(\"Pvalue:\", str(pvalue))\n",
    "print(\"Tvalue:\", str(t))\n",
    "\n",
    "if pvalue <0.05:\n",
    "    print(\"Tolak H0\")\n",
    "else:\n",
    "    print(\"gagal tolak H0\")"
   ]
  },
  {
   "cell_type": "markdown",
   "id": "ec0a0441-b0d4-442f-974c-d9e746b3e237",
   "metadata": {},
   "source": [
    "## uji F"
   ]
  },
  {
   "cell_type": "markdown",
   "id": "963e6539-d08e-4f8c-bf97-aaf5f6ff921a",
   "metadata": {},
   "source": [
    "### Hipotesis 1"
   ]
  },
  {
   "cell_type": "code",
   "execution_count": 85,
   "id": "002bc2b8-4994-4112-b87d-3121d14a2b68",
   "metadata": {},
   "outputs": [],
   "source": [
    "import statsmodels.api as sm\n",
    "import scipy.stats"
   ]
  },
  {
   "cell_type": "code",
   "execution_count": 86,
   "id": "da23b7de-56a3-4e83-b97c-992ace7eb1d6",
   "metadata": {},
   "outputs": [],
   "source": [
    "dataframe = df.sort_values('Subscribers')"
   ]
  },
  {
   "cell_type": "code",
   "execution_count": 87,
   "id": "eeb00f44-1efe-44de-ac8b-2639f656da65",
   "metadata": {},
   "outputs": [
    {
     "data": {
      "text/plain": [
       "6480.0"
      ]
     },
     "execution_count": 87,
     "metadata": {},
     "output_type": "execute_result"
    }
   ],
   "source": [
    "dataframe1 = dataframe.iloc[0:5]\n",
    "dataframe1['Shares avg.'].mean()"
   ]
  },
  {
   "cell_type": "code",
   "execution_count": 88,
   "id": "67e590ab-900f-493c-b8c8-9a8e786223fb",
   "metadata": {},
   "outputs": [
    {
     "data": {
      "text/plain": [
       "7845.8"
      ]
     },
     "execution_count": 88,
     "metadata": {},
     "output_type": "execute_result"
    }
   ],
   "source": [
    "dataframe2 = dataframe.iloc[42:47]\n",
    "dataframe2['Shares avg.'].mean()"
   ]
  },
  {
   "cell_type": "code",
   "execution_count": 89,
   "id": "d61485df-078a-4099-a412-f16ba96ac8c9",
   "metadata": {},
   "outputs": [
    {
     "data": {
      "text/plain": [
       "2160.0"
      ]
     },
     "execution_count": 89,
     "metadata": {},
     "output_type": "execute_result"
    }
   ],
   "source": [
    "dataframe3 = dataframe.iloc[66:71]\n",
    "dataframe3['Shares avg.'].mean()"
   ]
  },
  {
   "cell_type": "code",
   "execution_count": 90,
   "id": "035f320e-c178-4134-9b73-cc60ed6d3136",
   "metadata": {},
   "outputs": [
    {
     "data": {
      "text/plain": [
       "4499.0"
      ]
     },
     "execution_count": 90,
     "metadata": {},
     "output_type": "execute_result"
    }
   ],
   "source": [
    "dataframe4 = dataframe.iloc[84:89]\n",
    "dataframe4['Shares avg.'].mean()"
   ]
  },
  {
   "cell_type": "code",
   "execution_count": 91,
   "id": "348d9819-3463-41cc-966f-fa0ee43be7ad",
   "metadata": {},
   "outputs": [
    {
     "name": "stdout",
     "output_type": "stream",
     "text": [
      "Pvalue: 0.5747466558947758\n",
      "Fvalue: 0.6839460423974559\n",
      "gagal tolak H0\n"
     ]
    }
   ],
   "source": [
    "fvalue ,p = scipy.stats.f_oneway(dataframe1['Shares avg.'],\n",
    "                                 dataframe2['Shares avg.'],\n",
    "                                 dataframe3['Shares avg.'],\n",
    "                                 dataframe4['Shares avg.'])\n",
    "\n",
    "print(\"Pvalue:\", str(p))\n",
    "print(\"Fvalue:\", str(fvalue))\n",
    "\n",
    "if p <0.05:\n",
    "    print(\"Tolak H0\")\n",
    "else:\n",
    "    print(\"gagal tolak H0\")\n",
    "    \n",
    "    \n",
    "# H0 : μ1 = μ2 = μ3 = … = μk (Ini menyiratkan bahwa rata-rata semua populasi adalah sama)\n",
    "# H1 : Ini menyatakan bahwa akan ada setidaknya satu rata-rata populasi yang berbeda dari yang lain"
   ]
  },
  {
   "cell_type": "markdown",
   "id": "86a65a91-f2c5-426b-841a-71948f8907b2",
   "metadata": {},
   "source": [
    "### Hipotesis 2"
   ]
  },
  {
   "cell_type": "code",
   "execution_count": 98,
   "id": "d75462fe-8b88-4145-86c7-fb106765282b",
   "metadata": {},
   "outputs": [],
   "source": [
    "dfhead = df.head()"
   ]
  },
  {
   "cell_type": "code",
   "execution_count": 99,
   "id": "c7981bac-b0c0-40fa-a646-0ab86343916d",
   "metadata": {},
   "outputs": [],
   "source": [
    "dftail = df.tail()"
   ]
  },
  {
   "cell_type": "code",
   "execution_count": 102,
   "id": "bf56d91f-d9e0-4068-865e-eafafe4a1175",
   "metadata": {},
   "outputs": [
    {
     "name": "stdout",
     "output_type": "stream",
     "text": [
      "Pvalue: 0.010382459250767195\n",
      "Zvalue: 15.654810093687447\n",
      "tolak H0\n"
     ]
    }
   ],
   "source": [
    "# Create data\n",
    "group1 = dfhead['Subscribers']\n",
    "group2 = dftail['Subscribers']\n",
    "  \n",
    "# converting the list to array\n",
    "x = np.array(group1)\n",
    "y = np.array(group2)\n",
    "  \n",
    "def f_test(group1, group2):\n",
    "    f = np.var(group1, ddof=1)/np.var(group2, ddof=1)\n",
    "    nun = x.size-1\n",
    "    dun = y.size-1\n",
    "    p_value = 1-scipy.stats.f.cdf(f, nun, dun)\n",
    "    return f, p_value\n",
    "  \n",
    "# perform F-test\n",
    "fval,p = f_test(x, y)\n",
    "\n",
    "print(\"Pvalue:\", str(p))\n",
    "print(\"Zvalue:\", str(fval))\n",
    "\n",
    "if p < 0.05:\n",
    "    print(\"tolak H0\")\n",
    "else:\n",
    "    print(\"gagal tolak H0\")"
   ]
  },
  {
   "cell_type": "markdown",
   "id": "e9e20d08-c0a5-4218-a16c-55574cde5e52",
   "metadata": {},
   "source": [
    "## UJI Z"
   ]
  },
  {
   "cell_type": "code",
   "execution_count": 67,
   "id": "b5c8da1b-65e8-40dd-85ea-719dd13c5495",
   "metadata": {},
   "outputs": [],
   "source": [
    "subs = df.sort_values(by = [\"Subscribers\"], ascending = False)"
   ]
  },
  {
   "cell_type": "code",
   "execution_count": 68,
   "id": "b642a600-1a87-4b79-ad66-a47b2cced49d",
   "metadata": {},
   "outputs": [],
   "source": [
    "df2 = subs.iloc[0:60]"
   ]
  },
  {
   "cell_type": "code",
   "execution_count": 69,
   "id": "845bff95-3ce8-4e02-a5cf-32820e7e99ff",
   "metadata": {},
   "outputs": [
    {
     "data": {
      "text/plain": [
       "5716666.666666667"
      ]
     },
     "execution_count": 69,
     "metadata": {},
     "output_type": "execute_result"
    }
   ],
   "source": [
    "df2['Views avg.'].mean()"
   ]
  },
  {
   "cell_type": "markdown",
   "id": "72e10f96-85d9-466b-a649-7b301de1bf46",
   "metadata": {},
   "source": [
    "### hipotesis 1"
   ]
  },
  {
   "cell_type": "code",
   "execution_count": 70,
   "id": "70328488-55e5-4c68-9104-3e223025e7b4",
   "metadata": {},
   "outputs": [
    {
     "name": "stdout",
     "output_type": "stream",
     "text": [
      "Pvalue: 0.9759547039712174\n",
      "Zvalue: 0.03014087251775373\n",
      "gagal tolak H0\n"
     ]
    }
   ],
   "source": [
    "#Uji hipotesis 1 sampel\n",
    "#H0 = rata views = 5700000\n",
    "#H1 = rata views != 5700000\n",
    "\n",
    "import pandas as pd\n",
    "from statsmodels.stats import weightstats as stests\n",
    "import scipy.stats as stats\n",
    "\n",
    "ztest ,p = stests.ztest(df2['Views avg.'],value=5700000)\n",
    "print(\"Pvalue:\", str(p))\n",
    "print(\"Zvalue:\", str(ztest))\n",
    "\n",
    "if p < 0.05:\n",
    "    print(\"tolak H0\")\n",
    "else:\n",
    "    print(\"gagal tolak H0\")"
   ]
  },
  {
   "cell_type": "code",
   "execution_count": 71,
   "id": "526ad583-03aa-4728-9c13-1cf86e134655",
   "metadata": {},
   "outputs": [
    {
     "data": {
      "text/plain": [
       "18.251241198283378"
      ]
     },
     "execution_count": 71,
     "metadata": {},
     "output_type": "execute_result"
    }
   ],
   "source": [
    "#banyak tiktoker yang memiliki views avg. nya kurang dari 6000000 ada 18 orang dari 60 orang\n",
    "ztest ,p = stests.ztest(df2['Views avg.'],value=6000000)\n",
    "cdfa = stats.norm(0,1).cdf(ztest)\n",
    "cdfa * len(df2['Views avg.'])"
   ]
  },
  {
   "cell_type": "code",
   "execution_count": 72,
   "id": "d09e368b-c251-4905-8e89-fd030ad17ddb",
   "metadata": {},
   "outputs": [
    {
     "name": "stdout",
     "output_type": "stream",
     "text": [
      "5.8486700808645296\n"
     ]
    }
   ],
   "source": [
    "#banyak tiktoker yang memiliki views avg. nya lebih dari 5000000 ada 5 orang dari 60 orang\n",
    "ztest ,p = stests.ztest(df2['Views avg.'],value=5000000)\n",
    "cdfa = stats.norm(0,1).cdf(ztest)\n",
    "print(len(df2['Views avg.']) - (cdfa * len(df2['Views avg.'])))"
   ]
  },
  {
   "cell_type": "code",
   "execution_count": 73,
   "id": "6d7a5183-74fd-443b-a610-8322a7255e2c",
   "metadata": {},
   "outputs": [
    {
     "data": {
      "text/plain": [
       "0.030140872517753724"
      ]
     },
     "execution_count": 73,
     "metadata": {},
     "output_type": "execute_result"
    }
   ],
   "source": [
    "#ini kalau hitung zvalue secara manual\n",
    "zval = ((5700000 - df2['Views avg.'].mean())/(df2['Views avg.'].std()/len(df2['Views avg.'])**(1/2))) * -1\n",
    "zval"
   ]
  },
  {
   "cell_type": "markdown",
   "id": "3380f80f-5094-443c-bba0-11d7c1bd4468",
   "metadata": {},
   "source": [
    "### Hipotesis 2"
   ]
  },
  {
   "cell_type": "code",
   "execution_count": 74,
   "id": "b4b94a73-6a40-4565-983f-ad4330ddcb4b",
   "metadata": {},
   "outputs": [],
   "source": [
    "df2 = subs.iloc[0:60]\n",
    "df3 = df2.iloc[0:30]\n",
    "df4 = df2.iloc[31:60]"
   ]
  },
  {
   "cell_type": "code",
   "execution_count": 75,
   "id": "2de09722-7cd3-460b-8da8-9746e36b7078",
   "metadata": {},
   "outputs": [
    {
     "data": {
      "text/plain": [
       "7126666.666666667"
      ]
     },
     "execution_count": 75,
     "metadata": {},
     "output_type": "execute_result"
    }
   ],
   "source": [
    "df3['Views avg.'].mean()"
   ]
  },
  {
   "cell_type": "code",
   "execution_count": 76,
   "id": "f979ae1a-df72-47ad-bd06-7bc6daf2a6d0",
   "metadata": {},
   "outputs": [
    {
     "data": {
      "text/plain": [
       "4282758.620689655"
      ]
     },
     "execution_count": 76,
     "metadata": {},
     "output_type": "execute_result"
    }
   ],
   "source": [
    "df4['Views avg.'].mean()"
   ]
  },
  {
   "cell_type": "code",
   "execution_count": 77,
   "id": "0373c40a-ca0b-456e-8138-4323b1041cb4",
   "metadata": {},
   "outputs": [
    {
     "name": "stdout",
     "output_type": "stream",
     "text": [
      "Tolak H0\n",
      "Pvalue: 0.007874277962319844\n",
      "Tvalue: 2.6574135651446382\n"
     ]
    }
   ],
   "source": [
    "### uji beda mean berpasangan\n",
    "# d dianggap nol, karena itu valuenya tidak tertulis\n",
    "\n",
    "tval, pval = stests.ztest(df3['Views avg.'],df4['Views avg.'])\n",
    "\n",
    "if pval <0.05:\n",
    "    print(\"Tolak H0\")\n",
    "else:\n",
    "    print(\"gagal tolak H0\")\n",
    "    \n",
    "print(\"Pvalue:\", str(pval))\n",
    "print(\"Tvalue:\", str(tval))"
   ]
  },
  {
   "cell_type": "code",
   "execution_count": null,
   "id": "8b296aa3-2c15-49ea-b184-0a68734138ee",
   "metadata": {},
   "outputs": [],
   "source": []
  },
  {
   "cell_type": "code",
   "execution_count": null,
   "id": "f165ddba-b0fe-4dda-87fb-8a973dbde297",
   "metadata": {},
   "outputs": [],
   "source": []
  },
  {
   "cell_type": "code",
   "execution_count": null,
   "id": "b3f47842-1a63-4fca-8d95-77dc3c65f210",
   "metadata": {},
   "outputs": [],
   "source": []
  }
 ],
 "metadata": {
  "kernelspec": {
   "display_name": "Python 3 (ipykernel)",
   "language": "python",
   "name": "python3"
  },
  "language_info": {
   "codemirror_mode": {
    "name": "ipython",
    "version": 3
   },
   "file_extension": ".py",
   "mimetype": "text/x-python",
   "name": "python",
   "nbconvert_exporter": "python",
   "pygments_lexer": "ipython3",
   "version": "3.9.12"
  }
 },
 "nbformat": 4,
 "nbformat_minor": 5
}
